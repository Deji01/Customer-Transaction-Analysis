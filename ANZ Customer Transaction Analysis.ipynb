{
 "cells": [
  {
   "cell_type": "markdown",
   "id": "f7a35bb2",
   "metadata": {},
   "source": [
    "# ANZ Customer Transaction Data Analysis\n",
    "\n",
    "This analysis is based on a synthesised transaction dataset containing transactions for 100 hypothetical customers. It contains purchases, recurring transactions, and salary transactions.\n",
    "The dataset is designed to simulate realistic transaction behaviours that are observed in ANZ’s real transaction data."
   ]
  },
  {
   "cell_type": "code",
   "execution_count": 128,
   "id": "675e8130",
   "metadata": {},
   "outputs": [],
   "source": [
    "# Load required libraries\n",
    "import datetime\n",
    "from datetime import date, timedelta\n",
    "from IPython.display import Image\n",
    "import matplotlib.pyplot as plt\n",
    "import math\n",
    "import numpy as np\n",
    "import pandas as pd\n",
    "import plotly.express as px\n",
    "from scipy import stats\n",
    "import  seaborn as sns\n",
    "\n",
    "# figure size in inches\n",
    "sns.set(rc={'figure.figsize':(25,5)})"
   ]
  },
  {
   "cell_type": "code",
   "execution_count": 129,
   "id": "5ce16eae",
   "metadata": {},
   "outputs": [
    {
     "data": {
      "text/html": [
       "<div>\n",
       "<style scoped>\n",
       "    .dataframe tbody tr th:only-of-type {\n",
       "        vertical-align: middle;\n",
       "    }\n",
       "\n",
       "    .dataframe tbody tr th {\n",
       "        vertical-align: top;\n",
       "    }\n",
       "\n",
       "    .dataframe thead th {\n",
       "        text-align: right;\n",
       "    }\n",
       "</style>\n",
       "<table border=\"1\" class=\"dataframe\">\n",
       "  <thead>\n",
       "    <tr style=\"text-align: right;\">\n",
       "      <th></th>\n",
       "      <th>status</th>\n",
       "      <th>card_present_flag</th>\n",
       "      <th>bpay_biller_code</th>\n",
       "      <th>account</th>\n",
       "      <th>currency</th>\n",
       "      <th>long_lat</th>\n",
       "      <th>txn_description</th>\n",
       "      <th>merchant_id</th>\n",
       "      <th>merchant_code</th>\n",
       "      <th>first_name</th>\n",
       "      <th>...</th>\n",
       "      <th>age</th>\n",
       "      <th>merchant_suburb</th>\n",
       "      <th>merchant_state</th>\n",
       "      <th>extraction</th>\n",
       "      <th>amount</th>\n",
       "      <th>transaction_id</th>\n",
       "      <th>country</th>\n",
       "      <th>customer_id</th>\n",
       "      <th>merchant_long_lat</th>\n",
       "      <th>movement</th>\n",
       "    </tr>\n",
       "  </thead>\n",
       "  <tbody>\n",
       "    <tr>\n",
       "      <th>0</th>\n",
       "      <td>authorized</td>\n",
       "      <td>1.0</td>\n",
       "      <td>NaN</td>\n",
       "      <td>ACC-1598451071</td>\n",
       "      <td>AUD</td>\n",
       "      <td>153.41 -27.95</td>\n",
       "      <td>POS</td>\n",
       "      <td>81c48296-73be-44a7-befa-d053f48ce7cd</td>\n",
       "      <td>NaN</td>\n",
       "      <td>Diana</td>\n",
       "      <td>...</td>\n",
       "      <td>26</td>\n",
       "      <td>Ashmore</td>\n",
       "      <td>QLD</td>\n",
       "      <td>2018-08-01T01:01:15.000+0000</td>\n",
       "      <td>16.25</td>\n",
       "      <td>a623070bfead4541a6b0fff8a09e706c</td>\n",
       "      <td>Australia</td>\n",
       "      <td>CUS-2487424745</td>\n",
       "      <td>153.38 -27.99</td>\n",
       "      <td>debit</td>\n",
       "    </tr>\n",
       "    <tr>\n",
       "      <th>1</th>\n",
       "      <td>authorized</td>\n",
       "      <td>0.0</td>\n",
       "      <td>NaN</td>\n",
       "      <td>ACC-1598451071</td>\n",
       "      <td>AUD</td>\n",
       "      <td>153.41 -27.95</td>\n",
       "      <td>SALES-POS</td>\n",
       "      <td>830a451c-316e-4a6a-bf25-e37caedca49e</td>\n",
       "      <td>NaN</td>\n",
       "      <td>Diana</td>\n",
       "      <td>...</td>\n",
       "      <td>26</td>\n",
       "      <td>Sydney</td>\n",
       "      <td>NSW</td>\n",
       "      <td>2018-08-01T01:13:45.000+0000</td>\n",
       "      <td>14.19</td>\n",
       "      <td>13270a2a902145da9db4c951e04b51b9</td>\n",
       "      <td>Australia</td>\n",
       "      <td>CUS-2487424745</td>\n",
       "      <td>151.21 -33.87</td>\n",
       "      <td>debit</td>\n",
       "    </tr>\n",
       "    <tr>\n",
       "      <th>2</th>\n",
       "      <td>authorized</td>\n",
       "      <td>1.0</td>\n",
       "      <td>NaN</td>\n",
       "      <td>ACC-1222300524</td>\n",
       "      <td>AUD</td>\n",
       "      <td>151.23 -33.94</td>\n",
       "      <td>POS</td>\n",
       "      <td>835c231d-8cdf-4e96-859d-e9d571760cf0</td>\n",
       "      <td>NaN</td>\n",
       "      <td>Michael</td>\n",
       "      <td>...</td>\n",
       "      <td>38</td>\n",
       "      <td>Sydney</td>\n",
       "      <td>NSW</td>\n",
       "      <td>2018-08-01T01:26:15.000+0000</td>\n",
       "      <td>6.42</td>\n",
       "      <td>feb79e7ecd7048a5a36ec889d1a94270</td>\n",
       "      <td>Australia</td>\n",
       "      <td>CUS-2142601169</td>\n",
       "      <td>151.21 -33.87</td>\n",
       "      <td>debit</td>\n",
       "    </tr>\n",
       "    <tr>\n",
       "      <th>3</th>\n",
       "      <td>authorized</td>\n",
       "      <td>1.0</td>\n",
       "      <td>NaN</td>\n",
       "      <td>ACC-1037050564</td>\n",
       "      <td>AUD</td>\n",
       "      <td>153.10 -27.66</td>\n",
       "      <td>SALES-POS</td>\n",
       "      <td>48514682-c78a-4a88-b0da-2d6302e64673</td>\n",
       "      <td>NaN</td>\n",
       "      <td>Rhonda</td>\n",
       "      <td>...</td>\n",
       "      <td>40</td>\n",
       "      <td>Buderim</td>\n",
       "      <td>QLD</td>\n",
       "      <td>2018-08-01T01:38:45.000+0000</td>\n",
       "      <td>40.90</td>\n",
       "      <td>2698170da3704fd981b15e64a006079e</td>\n",
       "      <td>Australia</td>\n",
       "      <td>CUS-1614226872</td>\n",
       "      <td>153.05 -26.68</td>\n",
       "      <td>debit</td>\n",
       "    </tr>\n",
       "    <tr>\n",
       "      <th>4</th>\n",
       "      <td>authorized</td>\n",
       "      <td>1.0</td>\n",
       "      <td>NaN</td>\n",
       "      <td>ACC-1598451071</td>\n",
       "      <td>AUD</td>\n",
       "      <td>153.41 -27.95</td>\n",
       "      <td>SALES-POS</td>\n",
       "      <td>b4e02c10-0852-4273-b8fd-7b3395e32eb0</td>\n",
       "      <td>NaN</td>\n",
       "      <td>Diana</td>\n",
       "      <td>...</td>\n",
       "      <td>26</td>\n",
       "      <td>Mermaid Beach</td>\n",
       "      <td>QLD</td>\n",
       "      <td>2018-08-01T01:51:15.000+0000</td>\n",
       "      <td>3.25</td>\n",
       "      <td>329adf79878c4cf0aeb4188b4691c266</td>\n",
       "      <td>Australia</td>\n",
       "      <td>CUS-2487424745</td>\n",
       "      <td>153.44 -28.06</td>\n",
       "      <td>debit</td>\n",
       "    </tr>\n",
       "  </tbody>\n",
       "</table>\n",
       "<p>5 rows × 23 columns</p>\n",
       "</div>"
      ],
      "text/plain": [
       "       status  card_present_flag bpay_biller_code         account currency  \\\n",
       "0  authorized                1.0              NaN  ACC-1598451071      AUD   \n",
       "1  authorized                0.0              NaN  ACC-1598451071      AUD   \n",
       "2  authorized                1.0              NaN  ACC-1222300524      AUD   \n",
       "3  authorized                1.0              NaN  ACC-1037050564      AUD   \n",
       "4  authorized                1.0              NaN  ACC-1598451071      AUD   \n",
       "\n",
       "        long_lat txn_description                           merchant_id  \\\n",
       "0  153.41 -27.95             POS  81c48296-73be-44a7-befa-d053f48ce7cd   \n",
       "1  153.41 -27.95       SALES-POS  830a451c-316e-4a6a-bf25-e37caedca49e   \n",
       "2  151.23 -33.94             POS  835c231d-8cdf-4e96-859d-e9d571760cf0   \n",
       "3  153.10 -27.66       SALES-POS  48514682-c78a-4a88-b0da-2d6302e64673   \n",
       "4  153.41 -27.95       SALES-POS  b4e02c10-0852-4273-b8fd-7b3395e32eb0   \n",
       "\n",
       "   merchant_code first_name  ...  age merchant_suburb merchant_state  \\\n",
       "0            NaN      Diana  ...   26         Ashmore            QLD   \n",
       "1            NaN      Diana  ...   26          Sydney            NSW   \n",
       "2            NaN    Michael  ...   38          Sydney            NSW   \n",
       "3            NaN     Rhonda  ...   40         Buderim            QLD   \n",
       "4            NaN      Diana  ...   26   Mermaid Beach            QLD   \n",
       "\n",
       "                     extraction amount                    transaction_id  \\\n",
       "0  2018-08-01T01:01:15.000+0000  16.25  a623070bfead4541a6b0fff8a09e706c   \n",
       "1  2018-08-01T01:13:45.000+0000  14.19  13270a2a902145da9db4c951e04b51b9   \n",
       "2  2018-08-01T01:26:15.000+0000   6.42  feb79e7ecd7048a5a36ec889d1a94270   \n",
       "3  2018-08-01T01:38:45.000+0000  40.90  2698170da3704fd981b15e64a006079e   \n",
       "4  2018-08-01T01:51:15.000+0000   3.25  329adf79878c4cf0aeb4188b4691c266   \n",
       "\n",
       "     country     customer_id merchant_long_lat movement  \n",
       "0  Australia  CUS-2487424745     153.38 -27.99    debit  \n",
       "1  Australia  CUS-2487424745     151.21 -33.87    debit  \n",
       "2  Australia  CUS-2142601169     151.21 -33.87    debit  \n",
       "3  Australia  CUS-1614226872     153.05 -26.68    debit  \n",
       "4  Australia  CUS-2487424745     153.44 -28.06    debit  \n",
       "\n",
       "[5 rows x 23 columns]"
      ]
     },
     "metadata": {},
     "output_type": "display_data"
    }
   ],
   "source": [
    "df = pd.read_csv('ANZ_synthesised_transaction_dataset.csv')\n",
    "display(df.head())"
   ]
  },
  {
   "cell_type": "code",
   "execution_count": 130,
   "id": "e0b48bd6",
   "metadata": {},
   "outputs": [
    {
     "name": "stdout",
     "output_type": "stream",
     "text": [
      "The dataframe has a shape of 12043 rows and 23 columns.\n"
     ]
    }
   ],
   "source": [
    "df.shape\n",
    "print(f'The dataframe has a shape of {df.shape[0]} rows and {df.shape[1]} columns.')"
   ]
  },
  {
   "cell_type": "code",
   "execution_count": 131,
   "id": "65123fbc",
   "metadata": {},
   "outputs": [
    {
     "data": {
      "text/plain": [
       "Index(['status', 'card_present_flag', 'bpay_biller_code', 'account',\n",
       "       'currency', 'long_lat', 'txn_description', 'merchant_id',\n",
       "       'merchant_code', 'first_name', 'balance', 'date', 'gender', 'age',\n",
       "       'merchant_suburb', 'merchant_state', 'extraction', 'amount',\n",
       "       'transaction_id', 'country', 'customer_id', 'merchant_long_lat',\n",
       "       'movement'],\n",
       "      dtype='object')"
      ]
     },
     "execution_count": 131,
     "metadata": {},
     "output_type": "execute_result"
    }
   ],
   "source": [
    "df.columns"
   ]
  },
  {
   "cell_type": "code",
   "execution_count": 132,
   "id": "738c675c",
   "metadata": {},
   "outputs": [
    {
     "name": "stdout",
     "output_type": "stream",
     "text": [
      "<class 'pandas.core.frame.DataFrame'>\n",
      "RangeIndex: 12043 entries, 0 to 12042\n",
      "Data columns (total 23 columns):\n",
      " #   Column             Non-Null Count  Dtype  \n",
      "---  ------             --------------  -----  \n",
      " 0   status             12043 non-null  object \n",
      " 1   card_present_flag  7717 non-null   float64\n",
      " 2   bpay_biller_code   885 non-null    object \n",
      " 3   account            12043 non-null  object \n",
      " 4   currency           12043 non-null  object \n",
      " 5   long_lat           12043 non-null  object \n",
      " 6   txn_description    12043 non-null  object \n",
      " 7   merchant_id        7717 non-null   object \n",
      " 8   merchant_code      883 non-null    float64\n",
      " 9   first_name         12043 non-null  object \n",
      " 10  balance            12043 non-null  float64\n",
      " 11  date               12043 non-null  object \n",
      " 12  gender             12043 non-null  object \n",
      " 13  age                12043 non-null  int64  \n",
      " 14  merchant_suburb    7717 non-null   object \n",
      " 15  merchant_state     7717 non-null   object \n",
      " 16  extraction         12043 non-null  object \n",
      " 17  amount             12043 non-null  float64\n",
      " 18  transaction_id     12043 non-null  object \n",
      " 19  country            12043 non-null  object \n",
      " 20  customer_id        12043 non-null  object \n",
      " 21  merchant_long_lat  7717 non-null   object \n",
      " 22  movement           12043 non-null  object \n",
      "dtypes: float64(4), int64(1), object(18)\n",
      "memory usage: 1.3+ MB\n"
     ]
    }
   ],
   "source": [
    "df.info()"
   ]
  },
  {
   "cell_type": "code",
   "execution_count": 133,
   "id": "6366e9ec",
   "metadata": {},
   "outputs": [],
   "source": [
    "df['date'] = pd.to_datetime(df['date'])\n",
    "df['extraction'] = pd.to_datetime(df['extraction'])"
   ]
  },
  {
   "cell_type": "code",
   "execution_count": 134,
   "id": "ce86d375",
   "metadata": {},
   "outputs": [
    {
     "data": {
      "text/html": [
       "<div>\n",
       "<style scoped>\n",
       "    .dataframe tbody tr th:only-of-type {\n",
       "        vertical-align: middle;\n",
       "    }\n",
       "\n",
       "    .dataframe tbody tr th {\n",
       "        vertical-align: top;\n",
       "    }\n",
       "\n",
       "    .dataframe thead th {\n",
       "        text-align: right;\n",
       "    }\n",
       "</style>\n",
       "<table border=\"1\" class=\"dataframe\">\n",
       "  <thead>\n",
       "    <tr style=\"text-align: right;\">\n",
       "      <th></th>\n",
       "      <th>card_present_flag</th>\n",
       "      <th>merchant_code</th>\n",
       "      <th>balance</th>\n",
       "      <th>age</th>\n",
       "      <th>amount</th>\n",
       "    </tr>\n",
       "  </thead>\n",
       "  <tbody>\n",
       "    <tr>\n",
       "      <th>count</th>\n",
       "      <td>7717.000000</td>\n",
       "      <td>883.0</td>\n",
       "      <td>12043.000000</td>\n",
       "      <td>12043.000000</td>\n",
       "      <td>12043.000000</td>\n",
       "    </tr>\n",
       "    <tr>\n",
       "      <th>mean</th>\n",
       "      <td>0.802644</td>\n",
       "      <td>0.0</td>\n",
       "      <td>14704.195553</td>\n",
       "      <td>30.582330</td>\n",
       "      <td>187.933588</td>\n",
       "    </tr>\n",
       "    <tr>\n",
       "      <th>std</th>\n",
       "      <td>0.398029</td>\n",
       "      <td>0.0</td>\n",
       "      <td>31503.722652</td>\n",
       "      <td>10.046343</td>\n",
       "      <td>592.599934</td>\n",
       "    </tr>\n",
       "    <tr>\n",
       "      <th>min</th>\n",
       "      <td>0.000000</td>\n",
       "      <td>0.0</td>\n",
       "      <td>0.240000</td>\n",
       "      <td>18.000000</td>\n",
       "      <td>0.100000</td>\n",
       "    </tr>\n",
       "    <tr>\n",
       "      <th>25%</th>\n",
       "      <td>1.000000</td>\n",
       "      <td>0.0</td>\n",
       "      <td>3158.585000</td>\n",
       "      <td>22.000000</td>\n",
       "      <td>16.000000</td>\n",
       "    </tr>\n",
       "    <tr>\n",
       "      <th>50%</th>\n",
       "      <td>1.000000</td>\n",
       "      <td>0.0</td>\n",
       "      <td>6432.010000</td>\n",
       "      <td>28.000000</td>\n",
       "      <td>29.000000</td>\n",
       "    </tr>\n",
       "    <tr>\n",
       "      <th>75%</th>\n",
       "      <td>1.000000</td>\n",
       "      <td>0.0</td>\n",
       "      <td>12465.945000</td>\n",
       "      <td>38.000000</td>\n",
       "      <td>53.655000</td>\n",
       "    </tr>\n",
       "    <tr>\n",
       "      <th>max</th>\n",
       "      <td>1.000000</td>\n",
       "      <td>0.0</td>\n",
       "      <td>267128.520000</td>\n",
       "      <td>78.000000</td>\n",
       "      <td>8835.980000</td>\n",
       "    </tr>\n",
       "  </tbody>\n",
       "</table>\n",
       "</div>"
      ],
      "text/plain": [
       "       card_present_flag  merchant_code        balance           age  \\\n",
       "count        7717.000000          883.0   12043.000000  12043.000000   \n",
       "mean            0.802644            0.0   14704.195553     30.582330   \n",
       "std             0.398029            0.0   31503.722652     10.046343   \n",
       "min             0.000000            0.0       0.240000     18.000000   \n",
       "25%             1.000000            0.0    3158.585000     22.000000   \n",
       "50%             1.000000            0.0    6432.010000     28.000000   \n",
       "75%             1.000000            0.0   12465.945000     38.000000   \n",
       "max             1.000000            0.0  267128.520000     78.000000   \n",
       "\n",
       "             amount  \n",
       "count  12043.000000  \n",
       "mean     187.933588  \n",
       "std      592.599934  \n",
       "min        0.100000  \n",
       "25%       16.000000  \n",
       "50%       29.000000  \n",
       "75%       53.655000  \n",
       "max     8835.980000  "
      ]
     },
     "metadata": {},
     "output_type": "display_data"
    }
   ],
   "source": [
    "display(df.describe())"
   ]
  },
  {
   "cell_type": "code",
   "execution_count": 135,
   "id": "9f8841d7",
   "metadata": {},
   "outputs": [
    {
     "data": {
      "text/plain": [
       "txn_description\n",
       "INTER BANK       0\n",
       "PAY/SALARY       0\n",
       "PAYMENT          0\n",
       "PHONE BANK       0\n",
       "POS           3783\n",
       "SALES-POS     3934\n",
       "Name: merchant_id, dtype: int64"
      ]
     },
     "execution_count": 135,
     "metadata": {},
     "output_type": "execute_result"
    }
   ],
   "source": [
    "df.groupby('txn_description')['merchant_id'].count()"
   ]
  },
  {
   "cell_type": "markdown",
   "id": "72e565d5",
   "metadata": {},
   "source": [
    "For each record/row, information is complete for majority of columns. Some columns contain missing\n",
    "data (blank or NA cells), which is likely due to the nature of transaction. (i.e. `merchants` are only involved in POS payments)"
   ]
  },
  {
   "cell_type": "code",
   "execution_count": 136,
   "id": "e5fc32bf",
   "metadata": {},
   "outputs": [
    {
     "data": {
      "text/plain": [
       "12043"
      ]
     },
     "execution_count": 136,
     "metadata": {},
     "output_type": "execute_result"
    }
   ],
   "source": [
    "all_transactions = len(df)\n",
    "all_transactions"
   ]
  },
  {
   "cell_type": "code",
   "execution_count": 137,
   "id": "5d9f3f76",
   "metadata": {},
   "outputs": [
    {
     "name": "stdout",
     "output_type": "stream",
     "text": [
      "========================================\n",
      "Customer ID\n",
      "0    CUS-2487424745\n",
      "1    CUS-2487424745\n",
      "2    CUS-2142601169\n",
      "Name: customer_id, dtype: object\n",
      "========================================\n",
      "Customer Account\n",
      "0    ACC-1598451071\n",
      "1    ACC-1598451071\n",
      "2    ACC-1222300524\n",
      "Name: account, dtype: object\n",
      "========================================\n",
      "Customer ID + Account\n",
      "0    ACC-1598451071 + CUS-2487424745\n",
      "1    ACC-1598451071 + CUS-2487424745\n",
      "2    ACC-1222300524 + CUS-2142601169\n",
      "Name: customer_id_account, dtype: object\n",
      "========================================\n"
     ]
    }
   ],
   "source": [
    "# concatenate customer id and account\n",
    "df['customer_id_account'] = df['account'] + ' + ' +  df['customer_id']\n",
    "\n",
    "print('========================================')\n",
    "print('Customer ID')\n",
    "print(df['customer_id'][:3])\n",
    "print('========================================')\n",
    "print('Customer Account')\n",
    "print(df['account'][:3])\n",
    "print('========================================')\n",
    "print('Customer ID + Account')\n",
    "print(df['customer_id_account'][:3])\n",
    "print('========================================')"
   ]
  },
  {
   "cell_type": "code",
   "execution_count": 138,
   "id": "a1b084ee",
   "metadata": {},
   "outputs": [],
   "source": [
    "customer_id_account = df['customer_id_account'].nunique()\n",
    "customer_id = df['customer_id'].nunique()\n",
    "bank_account = df['account'].nunique()"
   ]
  },
  {
   "cell_type": "code",
   "execution_count": 139,
   "id": "7780a3ac",
   "metadata": {},
   "outputs": [],
   "source": [
    "assert customer_id == bank_account\n",
    "assert customer_id_account == bank_account\n",
    "assert customer_id == customer_id_account"
   ]
  },
  {
   "cell_type": "code",
   "execution_count": 140,
   "id": "92c758e8",
   "metadata": {},
   "outputs": [
    {
     "name": "stdout",
     "output_type": "stream",
     "text": [
      " There are 100 customer id's, 100 bank accounts and 100 customer id plus account combination. For each costumer id and account combination, there is a unique customer. This proves that each customer has a single bank account.\n"
     ]
    }
   ],
   "source": [
    "print(f\" There are {customer_id} customer id's, {bank_account} bank accounts and {customer_id_account} customer id plus account combination. For each costumer id and account combination, there is a unique customer. This proves that each customer has a single bank account.\")"
   ]
  },
  {
   "cell_type": "code",
   "execution_count": 141,
   "id": "83e145e8",
   "metadata": {},
   "outputs": [
    {
     "name": "stdout",
     "output_type": "stream",
     "text": [
      "Transactions range from 2018-01-08 00:00:00 to 2018-12-10 00:00:00\n"
     ]
    }
   ],
   "source": [
    "start_date = min(df['date'])\n",
    "end_date = df['date'].max()\n",
    "\n",
    "print(f'Transactions range from {start_date} to {end_date}')"
   ]
  },
  {
   "cell_type": "code",
   "execution_count": 142,
   "id": "d4c6e0cc",
   "metadata": {},
   "outputs": [
    {
     "data": {
      "text/plain": [
       "336"
      ]
     },
     "execution_count": 142,
     "metadata": {},
     "output_type": "execute_result"
    }
   ],
   "source": [
    "# Number of days between start and end date\n",
    "numdays = (end_date - start_date).days\n",
    "numdays"
   ]
  },
  {
   "cell_type": "code",
   "execution_count": 143,
   "id": "7389d08d",
   "metadata": {},
   "outputs": [
    {
     "data": {
      "text/plain": [
       "DatetimeIndex(['2018-01-11', '2018-01-12', '2018-01-13', '2018-01-14',\n",
       "               '2018-01-15', '2018-01-16', '2018-01-17', '2018-01-18',\n",
       "               '2018-01-19', '2018-01-20'],\n",
       "              dtype='datetime64[ns]', freq=None)"
      ]
     },
     "execution_count": 143,
     "metadata": {},
     "output_type": "execute_result"
    }
   ],
   "source": [
    "dates_missing = pd.date_range(start = start_date, end = end_date ).difference(df.date)\n",
    "dates_missing[:10]"
   ]
  },
  {
   "cell_type": "code",
   "execution_count": 144,
   "id": "9d6c296c",
   "metadata": {},
   "outputs": [
    {
     "data": {
      "text/plain": [
       "246"
      ]
     },
     "execution_count": 144,
     "metadata": {},
     "output_type": "execute_result"
    }
   ],
   "source": [
    "no_dates_missing = len(dates_missing)\n",
    "no_dates_missing"
   ]
  },
  {
   "cell_type": "code",
   "execution_count": 145,
   "id": "89688ab6",
   "metadata": {},
   "outputs": [
    {
     "name": "stdout",
     "output_type": "stream",
     "text": [
      "73.21% of data for the dates between 2018-01-08 00:00:00 and 2018-12-10 00:00:00 is missing.\n"
     ]
    }
   ],
   "source": [
    "missing_dates_pct = round((no_dates_missing/numdays * 100),2)\n",
    "print(f'{missing_dates_pct}% of data for the dates between {start_date} and {end_date} is missing.')"
   ]
  },
  {
   "cell_type": "code",
   "execution_count": 146,
   "id": "b22ea5d5",
   "metadata": {},
   "outputs": [
    {
     "name": "stdout",
     "output_type": "stream",
     "text": [
      "There are about 3 worth months of transaction data in this dataset.\n"
     ]
    }
   ],
   "source": [
    "year_days = 365\n",
    "trans_pct = 91 / year_days * 100\n",
    "all_months = 12\n",
    "months = trans_pct/ 100 * all_months\n",
    "months\n",
    "print(f'There are about {math.ceil(months)} worth months of transaction data in this dataset.')"
   ]
  },
  {
   "cell_type": "code",
   "execution_count": 147,
   "id": "d26a40b7",
   "metadata": {},
   "outputs": [],
   "source": [
    "# derive day and hour data of each transaction\n",
    "df['hour'] = df.extraction.dt.hour\n",
    "df['day_of_week'] =df['extraction'].dt.strftime('%A')"
   ]
  },
  {
   "cell_type": "code",
   "execution_count": 148,
   "id": "0a5a7881",
   "metadata": {},
   "outputs": [
    {
     "data": {
      "text/plain": [
       "array(['Wednesday', 'Thursday', 'Friday', 'Saturday', 'Sunday', 'Monday',\n",
       "       'Tuesday'], dtype=object)"
      ]
     },
     "execution_count": 148,
     "metadata": {},
     "output_type": "execute_result"
    }
   ],
   "source": [
    "df['day_of_week'].unique()"
   ]
  },
  {
   "cell_type": "code",
   "execution_count": 149,
   "id": "08be1ef7",
   "metadata": {},
   "outputs": [
    {
     "data": {
      "text/plain": [
       "array([ 0,  1,  2,  3,  4,  5,  6,  7,  8,  9, 10, 11, 12, 13, 14, 15, 16,\n",
       "       17, 18, 19, 20, 21, 22, 23], dtype=int64)"
      ]
     },
     "execution_count": 149,
     "metadata": {},
     "output_type": "execute_result"
    }
   ],
   "source": [
    "df['hour'].sort_values().unique()"
   ]
  },
  {
   "cell_type": "code",
   "execution_count": 150,
   "id": "3ce1f6f5",
   "metadata": {},
   "outputs": [],
   "source": [
    "df['merchant_long'] = df['merchant_long_lat'].str.split(' ', expand=True)[0].astype(float)\n",
    "df['merchant_lat'] = df['merchant_long_lat'].str.split(' ', expand=True)[1].astype(float)"
   ]
  },
  {
   "cell_type": "code",
   "execution_count": 151,
   "id": "bff911a6",
   "metadata": {},
   "outputs": [],
   "source": [
    "df['customer_long'] = df['long_lat'].str.split(' ', expand=True)[0].astype(float)\n",
    "df['customer_lat'] = df['long_lat'].str.split(' ', expand=True)[1].astype(float)"
   ]
  },
  {
   "cell_type": "markdown",
   "id": "ee342f72",
   "metadata": {},
   "source": [
    "image gotten from \n",
    "[National Location Information](https://www.ga.gov.au/scientific-topics/national-location-information/dimensions/continental-extremities) "
   ]
  },
  {
   "cell_type": "code",
   "execution_count": 152,
   "id": "d4643f0b",
   "metadata": {},
   "outputs": [
    {
     "data": {
      "image/png": "[encoded data removed]",
      "text/plain": [
       "<IPython.core.display.Image object>"
      ]
     },
     "execution_count": 152,
     "metadata": {},
     "output_type": "execute_result"
    }
   ],
   "source": [
    "Image(\"australia_extremities.png\")"
   ]
  },
  {
   "cell_type": "code",
   "execution_count": 153,
   "id": "f1c177c1",
   "metadata": {},
   "outputs": [
    {
     "data": {
      "text/html": [
       "<div>\n",
       "<style scoped>\n",
       "    .dataframe tbody tr th:only-of-type {\n",
       "        vertical-align: middle;\n",
       "    }\n",
       "\n",
       "    .dataframe tbody tr th {\n",
       "        vertical-align: top;\n",
       "    }\n",
       "\n",
       "    .dataframe thead th {\n",
       "        text-align: right;\n",
       "    }\n",
       "</style>\n",
       "<table border=\"1\" class=\"dataframe\">\n",
       "  <thead>\n",
       "    <tr style=\"text-align: right;\">\n",
       "      <th></th>\n",
       "      <th>status</th>\n",
       "      <th>card_present_flag</th>\n",
       "      <th>bpay_biller_code</th>\n",
       "      <th>account</th>\n",
       "      <th>currency</th>\n",
       "      <th>long_lat</th>\n",
       "      <th>txn_description</th>\n",
       "      <th>merchant_id</th>\n",
       "      <th>merchant_code</th>\n",
       "      <th>first_name</th>\n",
       "      <th>...</th>\n",
       "      <th>customer_id</th>\n",
       "      <th>merchant_long_lat</th>\n",
       "      <th>movement</th>\n",
       "      <th>customer_id_account</th>\n",
       "      <th>hour</th>\n",
       "      <th>day_of_week</th>\n",
       "      <th>merchant_long</th>\n",
       "      <th>merchant_lat</th>\n",
       "      <th>customer_long</th>\n",
       "      <th>customer_lat</th>\n",
       "    </tr>\n",
       "  </thead>\n",
       "  <tbody>\n",
       "  </tbody>\n",
       "</table>\n",
       "<p>0 rows × 30 columns</p>\n",
       "</div>"
      ],
      "text/plain": [
       "Empty DataFrame\n",
       "Columns: [status, card_present_flag, bpay_biller_code, account, currency, long_lat, txn_description, merchant_id, merchant_code, first_name, balance, date, gender, age, merchant_suburb, merchant_state, extraction, amount, transaction_id, country, customer_id, merchant_long_lat, movement, customer_id_account, hour, day_of_week, merchant_long, merchant_lat, customer_long, customer_lat]\n",
       "Index: []\n",
       "\n",
       "[0 rows x 30 columns]"
      ]
     },
     "execution_count": 153,
     "metadata": {},
     "output_type": "execute_result"
    }
   ],
   "source": [
    "# filtering out transactions for merchants who don't reside in Australia\n",
    "merchant_outside = df[(~(df['merchant_lat'] > -44) & (df['merchant_lat'] <= -10) & (df['merchant_long'] >= 113) & (df['merchant_long'] < 154))]\n",
    "merchant_outside"
   ]
  },
  {
   "cell_type": "markdown",
   "id": "852746e1",
   "metadata": {},
   "source": [
    "All Merchants reside within Australia and all their transaction history occured inside Australia."
   ]
  },
  {
   "cell_type": "code",
   "execution_count": 154,
   "id": "3631e367",
   "metadata": {},
   "outputs": [
    {
     "data": {
      "text/html": [
       "<div>\n",
       "<style scoped>\n",
       "    .dataframe tbody tr th:only-of-type {\n",
       "        vertical-align: middle;\n",
       "    }\n",
       "\n",
       "    .dataframe tbody tr th {\n",
       "        vertical-align: top;\n",
       "    }\n",
       "\n",
       "    .dataframe thead th {\n",
       "        text-align: right;\n",
       "    }\n",
       "</style>\n",
       "<table border=\"1\" class=\"dataframe\">\n",
       "  <thead>\n",
       "    <tr style=\"text-align: right;\">\n",
       "      <th></th>\n",
       "      <th>status</th>\n",
       "      <th>card_present_flag</th>\n",
       "      <th>bpay_biller_code</th>\n",
       "      <th>account</th>\n",
       "      <th>currency</th>\n",
       "      <th>long_lat</th>\n",
       "      <th>txn_description</th>\n",
       "      <th>merchant_id</th>\n",
       "      <th>merchant_code</th>\n",
       "      <th>first_name</th>\n",
       "      <th>...</th>\n",
       "      <th>customer_id</th>\n",
       "      <th>merchant_long_lat</th>\n",
       "      <th>movement</th>\n",
       "      <th>customer_id_account</th>\n",
       "      <th>hour</th>\n",
       "      <th>day_of_week</th>\n",
       "      <th>merchant_long</th>\n",
       "      <th>merchant_lat</th>\n",
       "      <th>customer_long</th>\n",
       "      <th>customer_lat</th>\n",
       "    </tr>\n",
       "  </thead>\n",
       "  <tbody>\n",
       "  </tbody>\n",
       "</table>\n",
       "<p>0 rows × 30 columns</p>\n",
       "</div>"
      ],
      "text/plain": [
       "Empty DataFrame\n",
       "Columns: [status, card_present_flag, bpay_biller_code, account, currency, long_lat, txn_description, merchant_id, merchant_code, first_name, balance, date, gender, age, merchant_suburb, merchant_state, extraction, amount, transaction_id, country, customer_id, merchant_long_lat, movement, customer_id_account, hour, day_of_week, merchant_long, merchant_lat, customer_long, customer_lat]\n",
       "Index: []\n",
       "\n",
       "[0 rows x 30 columns]"
      ]
     },
     "execution_count": 154,
     "metadata": {},
     "output_type": "execute_result"
    }
   ],
   "source": [
    "# filtering out transactions for customers who don't reside in Australia\n",
    "customer_outside = df[(~(df['customer_lat'] > -44) & (df['customer_lat'] <= -10) & (df['customer_long'] >= 113) & (df['customer_long'] < 154))]\n",
    "customer_outside"
   ]
  },
  {
   "cell_type": "markdown",
   "id": "b40cbd1c",
   "metadata": {},
   "source": [
    "Same applies to all Customers. The entirety of their transactions took place in Australia where they reside."
   ]
  },
  {
   "cell_type": "code",
   "execution_count": 155,
   "id": "1dc8f293",
   "metadata": {},
   "outputs": [
    {
     "data": {
      "text/html": [
       "<div>\n",
       "<style scoped>\n",
       "    .dataframe tbody tr th:only-of-type {\n",
       "        vertical-align: middle;\n",
       "    }\n",
       "\n",
       "    .dataframe tbody tr th {\n",
       "        vertical-align: top;\n",
       "    }\n",
       "\n",
       "    .dataframe thead th {\n",
       "        text-align: right;\n",
       "    }\n",
       "</style>\n",
       "<table border=\"1\" class=\"dataframe\">\n",
       "  <thead>\n",
       "    <tr style=\"text-align: right;\">\n",
       "      <th></th>\n",
       "      <th>card_present_flag</th>\n",
       "      <th>merchant_code</th>\n",
       "      <th>balance</th>\n",
       "      <th>age</th>\n",
       "      <th>amount</th>\n",
       "      <th>hour</th>\n",
       "      <th>merchant_long</th>\n",
       "      <th>merchant_lat</th>\n",
       "      <th>customer_long</th>\n",
       "      <th>customer_lat</th>\n",
       "    </tr>\n",
       "  </thead>\n",
       "  <tbody>\n",
       "    <tr>\n",
       "      <th>count</th>\n",
       "      <td>7717.000000</td>\n",
       "      <td>0.0</td>\n",
       "      <td>7717.000000</td>\n",
       "      <td>7717.000000</td>\n",
       "      <td>7717.000000</td>\n",
       "      <td>7717.000000</td>\n",
       "      <td>7717.000000</td>\n",
       "      <td>7717.000000</td>\n",
       "      <td>7717.000000</td>\n",
       "      <td>7717.000000</td>\n",
       "    </tr>\n",
       "    <tr>\n",
       "      <th>mean</th>\n",
       "      <td>0.802644</td>\n",
       "      <td>NaN</td>\n",
       "      <td>11871.056585</td>\n",
       "      <td>30.052093</td>\n",
       "      <td>40.153732</td>\n",
       "      <td>13.412207</td>\n",
       "      <td>143.433277</td>\n",
       "      <td>-32.752651</td>\n",
       "      <td>143.779001</td>\n",
       "      <td>-37.682413</td>\n",
       "    </tr>\n",
       "    <tr>\n",
       "      <th>std</th>\n",
       "      <td>0.398029</td>\n",
       "      <td>NaN</td>\n",
       "      <td>25999.398243</td>\n",
       "      <td>9.439454</td>\n",
       "      <td>149.833070</td>\n",
       "      <td>5.769436</td>\n",
       "      <td>12.090074</td>\n",
       "      <td>5.282423</td>\n",
       "      <td>16.901687</td>\n",
       "      <td>54.745625</td>\n",
       "    </tr>\n",
       "    <tr>\n",
       "      <th>min</th>\n",
       "      <td>0.000000</td>\n",
       "      <td>NaN</td>\n",
       "      <td>0.240000</td>\n",
       "      <td>18.000000</td>\n",
       "      <td>0.100000</td>\n",
       "      <td>0.000000</td>\n",
       "      <td>113.830000</td>\n",
       "      <td>-43.310000</td>\n",
       "      <td>114.620000</td>\n",
       "      <td>-573.000000</td>\n",
       "    </tr>\n",
       "    <tr>\n",
       "      <th>25%</th>\n",
       "      <td>1.000000</td>\n",
       "      <td>NaN</td>\n",
       "      <td>2723.890000</td>\n",
       "      <td>23.000000</td>\n",
       "      <td>12.080000</td>\n",
       "      <td>9.000000</td>\n",
       "      <td>144.680000</td>\n",
       "      <td>-37.710000</td>\n",
       "      <td>138.670000</td>\n",
       "      <td>-37.580000</td>\n",
       "    </tr>\n",
       "    <tr>\n",
       "      <th>50%</th>\n",
       "      <td>1.000000</td>\n",
       "      <td>NaN</td>\n",
       "      <td>5286.040000</td>\n",
       "      <td>27.000000</td>\n",
       "      <td>19.700000</td>\n",
       "      <td>14.000000</td>\n",
       "      <td>145.830000</td>\n",
       "      <td>-33.840000</td>\n",
       "      <td>145.730000</td>\n",
       "      <td>-33.780000</td>\n",
       "    </tr>\n",
       "    <tr>\n",
       "      <th>75%</th>\n",
       "      <td>1.000000</td>\n",
       "      <td>NaN</td>\n",
       "      <td>10278.290000</td>\n",
       "      <td>38.000000</td>\n",
       "      <td>33.910000</td>\n",
       "      <td>19.000000</td>\n",
       "      <td>151.210000</td>\n",
       "      <td>-29.440000</td>\n",
       "      <td>151.230000</td>\n",
       "      <td>-27.950000</td>\n",
       "    </tr>\n",
       "    <tr>\n",
       "      <th>max</th>\n",
       "      <td>1.000000</td>\n",
       "      <td>NaN</td>\n",
       "      <td>267093.660000</td>\n",
       "      <td>78.000000</td>\n",
       "      <td>7081.090000</td>\n",
       "      <td>23.000000</td>\n",
       "      <td>153.610000</td>\n",
       "      <td>-12.330000</td>\n",
       "      <td>255.000000</td>\n",
       "      <td>-12.370000</td>\n",
       "    </tr>\n",
       "  </tbody>\n",
       "</table>\n",
       "</div>"
      ],
      "text/plain": [
       "       card_present_flag  merchant_code        balance          age  \\\n",
       "count        7717.000000            0.0    7717.000000  7717.000000   \n",
       "mean            0.802644            NaN   11871.056585    30.052093   \n",
       "std             0.398029            NaN   25999.398243     9.439454   \n",
       "min             0.000000            NaN       0.240000    18.000000   \n",
       "25%             1.000000            NaN    2723.890000    23.000000   \n",
       "50%             1.000000            NaN    5286.040000    27.000000   \n",
       "75%             1.000000            NaN   10278.290000    38.000000   \n",
       "max             1.000000            NaN  267093.660000    78.000000   \n",
       "\n",
       "            amount         hour  merchant_long  merchant_lat  customer_long  \\\n",
       "count  7717.000000  7717.000000    7717.000000   7717.000000    7717.000000   \n",
       "mean     40.153732    13.412207     143.433277    -32.752651     143.779001   \n",
       "std     149.833070     5.769436      12.090074      5.282423      16.901687   \n",
       "min       0.100000     0.000000     113.830000    -43.310000     114.620000   \n",
       "25%      12.080000     9.000000     144.680000    -37.710000     138.670000   \n",
       "50%      19.700000    14.000000     145.830000    -33.840000     145.730000   \n",
       "75%      33.910000    19.000000     151.210000    -29.440000     151.230000   \n",
       "max    7081.090000    23.000000     153.610000    -12.330000     255.000000   \n",
       "\n",
       "       customer_lat  \n",
       "count   7717.000000  \n",
       "mean     -37.682413  \n",
       "std       54.745625  \n",
       "min     -573.000000  \n",
       "25%      -37.580000  \n",
       "50%      -33.780000  \n",
       "75%      -27.950000  \n",
       "max      -12.370000  "
      ]
     },
     "execution_count": 155,
     "metadata": {},
     "output_type": "execute_result"
    }
   ],
   "source": [
    "# filtering out purchase transactions only\n",
    "# assuming purchase transactions must be associated with a merchant (have a merchant Id)\n",
    "merchant = df[df['merchant_id'].notna()]\n",
    "merchant.describe()"
   ]
  },
  {
   "cell_type": "code",
   "execution_count": 156,
   "id": "6951e776",
   "metadata": {},
   "outputs": [
    {
     "data": {
      "text/html": [
       "<div>\n",
       "<style scoped>\n",
       "    .dataframe tbody tr th:only-of-type {\n",
       "        vertical-align: middle;\n",
       "    }\n",
       "\n",
       "    .dataframe tbody tr th {\n",
       "        vertical-align: top;\n",
       "    }\n",
       "\n",
       "    .dataframe thead th {\n",
       "        text-align: right;\n",
       "    }\n",
       "</style>\n",
       "<table border=\"1\" class=\"dataframe\">\n",
       "  <thead>\n",
       "    <tr style=\"text-align: right;\">\n",
       "      <th></th>\n",
       "      <th>card_present_flag</th>\n",
       "      <th>merchant_code</th>\n",
       "      <th>balance</th>\n",
       "      <th>age</th>\n",
       "      <th>amount</th>\n",
       "      <th>hour</th>\n",
       "      <th>merchant_long</th>\n",
       "      <th>merchant_lat</th>\n",
       "      <th>customer_long</th>\n",
       "      <th>customer_lat</th>\n",
       "    </tr>\n",
       "  </thead>\n",
       "  <tbody>\n",
       "    <tr>\n",
       "      <th>count</th>\n",
       "      <td>7717.000000</td>\n",
       "      <td>0.0</td>\n",
       "      <td>7717.000000</td>\n",
       "      <td>7717.000000</td>\n",
       "      <td>7717.000000</td>\n",
       "      <td>7717.000000</td>\n",
       "      <td>7717.000000</td>\n",
       "      <td>7717.000000</td>\n",
       "      <td>7717.000000</td>\n",
       "      <td>7717.000000</td>\n",
       "    </tr>\n",
       "    <tr>\n",
       "      <th>mean</th>\n",
       "      <td>0.802644</td>\n",
       "      <td>NaN</td>\n",
       "      <td>11871.056585</td>\n",
       "      <td>30.052093</td>\n",
       "      <td>40.153732</td>\n",
       "      <td>13.412207</td>\n",
       "      <td>143.433277</td>\n",
       "      <td>-32.752651</td>\n",
       "      <td>143.779001</td>\n",
       "      <td>-37.682413</td>\n",
       "    </tr>\n",
       "    <tr>\n",
       "      <th>std</th>\n",
       "      <td>0.398029</td>\n",
       "      <td>NaN</td>\n",
       "      <td>25999.398243</td>\n",
       "      <td>9.439454</td>\n",
       "      <td>149.833070</td>\n",
       "      <td>5.769436</td>\n",
       "      <td>12.090074</td>\n",
       "      <td>5.282423</td>\n",
       "      <td>16.901687</td>\n",
       "      <td>54.745625</td>\n",
       "    </tr>\n",
       "    <tr>\n",
       "      <th>min</th>\n",
       "      <td>0.000000</td>\n",
       "      <td>NaN</td>\n",
       "      <td>0.240000</td>\n",
       "      <td>18.000000</td>\n",
       "      <td>0.100000</td>\n",
       "      <td>0.000000</td>\n",
       "      <td>113.830000</td>\n",
       "      <td>-43.310000</td>\n",
       "      <td>114.620000</td>\n",
       "      <td>-573.000000</td>\n",
       "    </tr>\n",
       "    <tr>\n",
       "      <th>25%</th>\n",
       "      <td>1.000000</td>\n",
       "      <td>NaN</td>\n",
       "      <td>2723.890000</td>\n",
       "      <td>23.000000</td>\n",
       "      <td>12.080000</td>\n",
       "      <td>9.000000</td>\n",
       "      <td>144.680000</td>\n",
       "      <td>-37.710000</td>\n",
       "      <td>138.670000</td>\n",
       "      <td>-37.580000</td>\n",
       "    </tr>\n",
       "    <tr>\n",
       "      <th>50%</th>\n",
       "      <td>1.000000</td>\n",
       "      <td>NaN</td>\n",
       "      <td>5286.040000</td>\n",
       "      <td>27.000000</td>\n",
       "      <td>19.700000</td>\n",
       "      <td>14.000000</td>\n",
       "      <td>145.830000</td>\n",
       "      <td>-33.840000</td>\n",
       "      <td>145.730000</td>\n",
       "      <td>-33.780000</td>\n",
       "    </tr>\n",
       "    <tr>\n",
       "      <th>75%</th>\n",
       "      <td>1.000000</td>\n",
       "      <td>NaN</td>\n",
       "      <td>10278.290000</td>\n",
       "      <td>38.000000</td>\n",
       "      <td>33.910000</td>\n",
       "      <td>19.000000</td>\n",
       "      <td>151.210000</td>\n",
       "      <td>-29.440000</td>\n",
       "      <td>151.230000</td>\n",
       "      <td>-27.950000</td>\n",
       "    </tr>\n",
       "    <tr>\n",
       "      <th>max</th>\n",
       "      <td>1.000000</td>\n",
       "      <td>NaN</td>\n",
       "      <td>267093.660000</td>\n",
       "      <td>78.000000</td>\n",
       "      <td>7081.090000</td>\n",
       "      <td>23.000000</td>\n",
       "      <td>153.610000</td>\n",
       "      <td>-12.330000</td>\n",
       "      <td>255.000000</td>\n",
       "      <td>-12.370000</td>\n",
       "    </tr>\n",
       "  </tbody>\n",
       "</table>\n",
       "</div>"
      ],
      "text/plain": [
       "       card_present_flag  merchant_code        balance          age  \\\n",
       "count        7717.000000            0.0    7717.000000  7717.000000   \n",
       "mean            0.802644            NaN   11871.056585    30.052093   \n",
       "std             0.398029            NaN   25999.398243     9.439454   \n",
       "min             0.000000            NaN       0.240000    18.000000   \n",
       "25%             1.000000            NaN    2723.890000    23.000000   \n",
       "50%             1.000000            NaN    5286.040000    27.000000   \n",
       "75%             1.000000            NaN   10278.290000    38.000000   \n",
       "max             1.000000            NaN  267093.660000    78.000000   \n",
       "\n",
       "            amount         hour  merchant_long  merchant_lat  customer_long  \\\n",
       "count  7717.000000  7717.000000    7717.000000   7717.000000    7717.000000   \n",
       "mean     40.153732    13.412207     143.433277    -32.752651     143.779001   \n",
       "std     149.833070     5.769436      12.090074      5.282423      16.901687   \n",
       "min       0.100000     0.000000     113.830000    -43.310000     114.620000   \n",
       "25%      12.080000     9.000000     144.680000    -37.710000     138.670000   \n",
       "50%      19.700000    14.000000     145.830000    -33.840000     145.730000   \n",
       "75%      33.910000    19.000000     151.210000    -29.440000     151.230000   \n",
       "max    7081.090000    23.000000     153.610000    -12.330000     255.000000   \n",
       "\n",
       "       customer_lat  \n",
       "count   7717.000000  \n",
       "mean     -37.682413  \n",
       "std       54.745625  \n",
       "min     -573.000000  \n",
       "25%      -37.580000  \n",
       "50%      -33.780000  \n",
       "75%      -27.950000  \n",
       "max      -12.370000  "
      ]
     },
     "execution_count": 156,
     "metadata": {},
     "output_type": "execute_result"
    }
   ],
   "source": [
    "pos_transations = df[(df['txn_description'] == 'SALES-POS')|(df['txn_description'] == 'POS')]\n",
    "pos_transations.describe()"
   ]
  },
  {
   "cell_type": "code",
   "execution_count": 157,
   "id": "f3e67fd5",
   "metadata": {},
   "outputs": [],
   "source": [
    "# it turned out that is equivilent to excluding following categories of transactions\n",
    "assert sorted(merchant) == sorted(pos_transations)"
   ]
  },
  {
   "cell_type": "code",
   "execution_count": 195,
   "id": "b18d744c",
   "metadata": {},
   "outputs": [
    {
     "data": {
      "text/plain": [
       "customer_id\n",
       "CUS-2487424745    192.666667\n",
       "CUS-2142601169    101.000000\n",
       "CUS-3026014945     97.333333\n",
       "CUS-3378712515     86.666667\n",
       "CUS-1614226872     86.333333\n",
       "                     ...    \n",
       "CUS-3395687666     13.333333\n",
       "CUS-3201519139     12.333333\n",
       "CUS-1646183815     11.333333\n",
       "CUS-495599312      10.333333\n",
       "CUS-1739931018      8.333333\n",
       "Name: transaction_id, Length: 100, dtype: float64"
      ]
     },
     "execution_count": 195,
     "metadata": {},
     "output_type": "execute_result"
    }
   ],
   "source": [
    "# customers average monthly transaction volume.\n",
    "trans_vol = df.groupby('customer_id')['transaction_id'].count().sort_values(ascending=False)/3\n",
    "trans_vol"
   ]
  },
  {
   "cell_type": "code",
   "execution_count": 191,
   "id": "5fbd0a11",
   "metadata": {},
   "outputs": [
    {
     "data": {
      "application/vnd.plotly.v1+json": {
       "config": {
        "plotlyServerURL": "https://plot.ly"
       },
       "data": [
        {
         "alignmentgroup": "True",
         "bingroup": "x",
         "hovertemplate": "Monthly Transaction Volume=%{x}<br>count=%{y}<extra></extra>",
         "legendgroup": "",
         "marker": {
          "color": "#636efa",
          "pattern": {
           "shape": ""
          }
         },
         "name": "",
         "offsetgroup": "",
         "orientation": "v",
         "showlegend": false,
         "type": "histogram",
         "x": [
          192.66666666666666,
          101,
          97.33333333333333,
          86.66666666666667,
          86.33333333333333,
          81.66666666666667,
          79.66666666666667,
          79.66666666666667,
          77.66666666666667,
          76.66666666666667,
          66.33333333333333,
          59.333333333333336,
          58,
          56.666666666666664,
          56.333333333333336,
          55.333333333333336,
          55,
          54.333333333333336,
          54.333333333333336,
          51.666666666666664,
          50.666666666666664,
          50.333333333333336,
          49.333333333333336,
          48.333333333333336,
          48,
          47,
          46.333333333333336,
          46.333333333333336,
          45.666666666666664,
          44.666666666666664,
          44.666666666666664,
          43,
          42,
          41.333333333333336,
          41.333333333333336,
          41.333333333333336,
          41,
          40.666666666666664,
          40.333333333333336,
          39.333333333333336,
          39.333333333333336,
          39.333333333333336,
          39.333333333333336,
          39,
          38.666666666666664,
          38.666666666666664,
          38.666666666666664,
          38.333333333333336,
          38,
          36.666666666666664,
          36.333333333333336,
          34,
          34,
          34,
          34,
          33.666666666666664,
          33.333333333333336,
          32.666666666666664,
          32.333333333333336,
          32.333333333333336,
          30.666666666666668,
          30.333333333333332,
          29.333333333333332,
          29.333333333333332,
          28.666666666666668,
          28.666666666666668,
          28,
          27,
          27,
          26.666666666666668,
          26.666666666666668,
          26.666666666666668,
          26,
          26,
          26,
          25.666666666666668,
          25.333333333333332,
          25,
          24.333333333333332,
          24,
          22.333333333333332,
          21,
          20.666666666666668,
          20.666666666666668,
          20,
          19.333333333333332,
          19.333333333333332,
          19,
          18.333333333333332,
          17.333333333333332,
          17,
          16.333333333333332,
          15.666666666666666,
          14.666666666666666,
          14.666666666666666,
          13.333333333333334,
          12.333333333333334,
          11.333333333333334,
          10.333333333333334,
          8.333333333333334
         ],
         "xaxis": "x",
         "yaxis": "y"
        }
       ],
       "layout": {
        "barmode": "relative",
        "legend": {
         "tracegroupgap": 0
        },
        "template": {
         "data": {
          "bar": [
           {
            "error_x": {
             "color": "#2a3f5f"
            },
            "error_y": {
             "color": "#2a3f5f"
            },
            "marker": {
             "line": {
              "color": "#E5ECF6",
              "width": 0.5
             },
             "pattern": {
              "fillmode": "overlay",
              "size": 10,
              "solidity": 0.2
             }
            },
            "type": "bar"
           }
          ],
          "barpolar": [
           {
            "marker": {
             "line": {
              "color": "#E5ECF6",
              "width": 0.5
             },
             "pattern": {
              "fillmode": "overlay",
              "size": 10,
              "solidity": 0.2
             }
            },
            "type": "barpolar"
           }
          ],
          "carpet": [
           {
            "aaxis": {
             "endlinecolor": "#2a3f5f",
             "gridcolor": "white",
             "linecolor": "white",
             "minorgridcolor": "white",
             "startlinecolor": "#2a3f5f"
            },
            "baxis": {
             "endlinecolor": "#2a3f5f",
             "gridcolor": "white",
             "linecolor": "white",
             "minorgridcolor": "white",
             "startlinecolor": "#2a3f5f"
            },
            "type": "carpet"
           }
          ],
          "choropleth": [
           {
            "colorbar": {
             "outlinewidth": 0,
             "ticks": ""
            },
            "type": "choropleth"
           }
          ],
          "contour": [
           {
            "colorbar": {
             "outlinewidth": 0,
             "ticks": ""
            },
            "colorscale": [
             [
              0,
              "#0d0887"
             ],
             [
              0.1111111111111111,
              "#46039f"
             ],
             [
              0.2222222222222222,
              "#7201a8"
             ],
             [
              0.3333333333333333,
              "#9c179e"
             ],
             [
              0.4444444444444444,
              "#bd3786"
             ],
             [
              0.5555555555555556,
              "#d8576b"
             ],
             [
              0.6666666666666666,
              "#ed7953"
             ],
             [
              0.7777777777777778,
              "#fb9f3a"
             ],
             [
              0.8888888888888888,
              "#fdca26"
             ],
             [
              1,
              "#f0f921"
             ]
            ],
            "type": "contour"
           }
          ],
          "contourcarpet": [
           {
            "colorbar": {
             "outlinewidth": 0,
             "ticks": ""
            },
            "type": "contourcarpet"
           }
          ],
          "heatmap": [
           {
            "colorbar": {
             "outlinewidth": 0,
             "ticks": ""
            },
            "colorscale": [
             [
              0,
              "#0d0887"
             ],
             [
              0.1111111111111111,
              "#46039f"
             ],
             [
              0.2222222222222222,
              "#7201a8"
             ],
             [
              0.3333333333333333,
              "#9c179e"
             ],
             [
              0.4444444444444444,
              "#bd3786"
             ],
             [
              0.5555555555555556,
              "#d8576b"
             ],
             [
              0.6666666666666666,
              "#ed7953"
             ],
             [
              0.7777777777777778,
              "#fb9f3a"
             ],
             [
              0.8888888888888888,
              "#fdca26"
             ],
             [
              1,
              "#f0f921"
             ]
            ],
            "type": "heatmap"
           }
          ],
          "heatmapgl": [
           {
            "colorbar": {
             "outlinewidth": 0,
             "ticks": ""
            },
            "colorscale": [
             [
              0,
              "#0d0887"
             ],
             [
              0.1111111111111111,
              "#46039f"
             ],
             [
              0.2222222222222222,
              "#7201a8"
             ],
             [
              0.3333333333333333,
              "#9c179e"
             ],
             [
              0.4444444444444444,
              "#bd3786"
             ],
             [
              0.5555555555555556,
              "#d8576b"
             ],
             [
              0.6666666666666666,
              "#ed7953"
             ],
             [
              0.7777777777777778,
              "#fb9f3a"
             ],
             [
              0.8888888888888888,
              "#fdca26"
             ],
             [
              1,
              "#f0f921"
             ]
            ],
            "type": "heatmapgl"
           }
          ],
          "histogram": [
           {
            "marker": {
             "pattern": {
              "fillmode": "overlay",
              "size": 10,
              "solidity": 0.2
             }
            },
            "type": "histogram"
           }
          ],
          "histogram2d": [
           {
            "colorbar": {
             "outlinewidth": 0,
             "ticks": ""
            },
            "colorscale": [
             [
              0,
              "#0d0887"
             ],
             [
              0.1111111111111111,
              "#46039f"
             ],
             [
              0.2222222222222222,
              "#7201a8"
             ],
             [
              0.3333333333333333,
              "#9c179e"
             ],
             [
              0.4444444444444444,
              "#bd3786"
             ],
             [
              0.5555555555555556,
              "#d8576b"
             ],
             [
              0.6666666666666666,
              "#ed7953"
             ],
             [
              0.7777777777777778,
              "#fb9f3a"
             ],
             [
              0.8888888888888888,
              "#fdca26"
             ],
             [
              1,
              "#f0f921"
             ]
            ],
            "type": "histogram2d"
           }
          ],
          "histogram2dcontour": [
           {
            "colorbar": {
             "outlinewidth": 0,
             "ticks": ""
            },
            "colorscale": [
             [
              0,
              "#0d0887"
             ],
             [
              0.1111111111111111,
              "#46039f"
             ],
             [
              0.2222222222222222,
              "#7201a8"
             ],
             [
              0.3333333333333333,
              "#9c179e"
             ],
             [
              0.4444444444444444,
              "#bd3786"
             ],
             [
              0.5555555555555556,
              "#d8576b"
             ],
             [
              0.6666666666666666,
              "#ed7953"
             ],
             [
              0.7777777777777778,
              "#fb9f3a"
             ],
             [
              0.8888888888888888,
              "#fdca26"
             ],
             [
              1,
              "#f0f921"
             ]
            ],
            "type": "histogram2dcontour"
           }
          ],
          "mesh3d": [
           {
            "colorbar": {
             "outlinewidth": 0,
             "ticks": ""
            },
            "type": "mesh3d"
           }
          ],
          "parcoords": [
           {
            "line": {
             "colorbar": {
              "outlinewidth": 0,
              "ticks": ""
             }
            },
            "type": "parcoords"
           }
          ],
          "pie": [
           {
            "automargin": true,
            "type": "pie"
           }
          ],
          "scatter": [
           {
            "marker": {
             "colorbar": {
              "outlinewidth": 0,
              "ticks": ""
             }
            },
            "type": "scatter"
           }
          ],
          "scatter3d": [
           {
            "line": {
             "colorbar": {
              "outlinewidth": 0,
              "ticks": ""
             }
            },
            "marker": {
             "colorbar": {
              "outlinewidth": 0,
              "ticks": ""
             }
            },
            "type": "scatter3d"
           }
          ],
          "scattercarpet": [
           {
            "marker": {
             "colorbar": {
              "outlinewidth": 0,
              "ticks": ""
             }
            },
            "type": "scattercarpet"
           }
          ],
          "scattergeo": [
           {
            "marker": {
             "colorbar": {
              "outlinewidth": 0,
              "ticks": ""
             }
            },
            "type": "scattergeo"
           }
          ],
          "scattergl": [
           {
            "marker": {
             "colorbar": {
              "outlinewidth": 0,
              "ticks": ""
             }
            },
            "type": "scattergl"
           }
          ],
          "scattermapbox": [
           {
            "marker": {
             "colorbar": {
              "outlinewidth": 0,
              "ticks": ""
             }
            },
            "type": "scattermapbox"
           }
          ],
          "scatterpolar": [
           {
            "marker": {
             "colorbar": {
              "outlinewidth": 0,
              "ticks": ""
             }
            },
            "type": "scatterpolar"
           }
          ],
          "scatterpolargl": [
           {
            "marker": {
             "colorbar": {
              "outlinewidth": 0,
              "ticks": ""
             }
            },
            "type": "scatterpolargl"
           }
          ],
          "scatterternary": [
           {
            "marker": {
             "colorbar": {
              "outlinewidth": 0,
              "ticks": ""
             }
            },
            "type": "scatterternary"
           }
          ],
          "surface": [
           {
            "colorbar": {
             "outlinewidth": 0,
             "ticks": ""
            },
            "colorscale": [
             [
              0,
              "#0d0887"
             ],
             [
              0.1111111111111111,
              "#46039f"
             ],
             [
              0.2222222222222222,
              "#7201a8"
             ],
             [
              0.3333333333333333,
              "#9c179e"
             ],
             [
              0.4444444444444444,
              "#bd3786"
             ],
             [
              0.5555555555555556,
              "#d8576b"
             ],
             [
              0.6666666666666666,
              "#ed7953"
             ],
             [
              0.7777777777777778,
              "#fb9f3a"
             ],
             [
              0.8888888888888888,
              "#fdca26"
             ],
             [
              1,
              "#f0f921"
             ]
            ],
            "type": "surface"
           }
          ],
          "table": [
           {
            "cells": {
             "fill": {
              "color": "#EBF0F8"
             },
             "line": {
              "color": "white"
             }
            },
            "header": {
             "fill": {
              "color": "#C8D4E3"
             },
             "line": {
              "color": "white"
             }
            },
            "type": "table"
           }
          ]
         },
         "layout": {
          "annotationdefaults": {
           "arrowcolor": "#2a3f5f",
           "arrowhead": 0,
           "arrowwidth": 1
          },
          "autotypenumbers": "strict",
          "coloraxis": {
           "colorbar": {
            "outlinewidth": 0,
            "ticks": ""
           }
          },
          "colorscale": {
           "diverging": [
            [
             0,
             "#8e0152"
            ],
            [
             0.1,
             "#c51b7d"
            ],
            [
             0.2,
             "#de77ae"
            ],
            [
             0.3,
             "#f1b6da"
            ],
            [
             0.4,
             "#fde0ef"
            ],
            [
             0.5,
             "#f7f7f7"
            ],
            [
             0.6,
             "#e6f5d0"
            ],
            [
             0.7,
             "#b8e186"
            ],
            [
             0.8,
             "#7fbc41"
            ],
            [
             0.9,
             "#4d9221"
            ],
            [
             1,
             "#276419"
            ]
           ],
           "sequential": [
            [
             0,
             "#0d0887"
            ],
            [
             0.1111111111111111,
             "#46039f"
            ],
            [
             0.2222222222222222,
             "#7201a8"
            ],
            [
             0.3333333333333333,
             "#9c179e"
            ],
            [
             0.4444444444444444,
             "#bd3786"
            ],
            [
             0.5555555555555556,
             "#d8576b"
            ],
            [
             0.6666666666666666,
             "#ed7953"
            ],
            [
             0.7777777777777778,
             "#fb9f3a"
            ],
            [
             0.8888888888888888,
             "#fdca26"
            ],
            [
             1,
             "#f0f921"
            ]
           ],
           "sequentialminus": [
            [
             0,
             "#0d0887"
            ],
            [
             0.1111111111111111,
             "#46039f"
            ],
            [
             0.2222222222222222,
             "#7201a8"
            ],
            [
             0.3333333333333333,
             "#9c179e"
            ],
            [
             0.4444444444444444,
             "#bd3786"
            ],
            [
             0.5555555555555556,
             "#d8576b"
            ],
            [
             0.6666666666666666,
             "#ed7953"
            ],
            [
             0.7777777777777778,
             "#fb9f3a"
            ],
            [
             0.8888888888888888,
             "#fdca26"
            ],
            [
             1,
             "#f0f921"
            ]
           ]
          },
          "colorway": [
           "#636efa",
           "#EF553B",
           "#00cc96",
           "#ab63fa",
           "#FFA15A",
           "#19d3f3",
           "#FF6692",
           "#B6E880",
           "#FF97FF",
           "#FECB52"
          ],
          "font": {
           "color": "#2a3f5f"
          },
          "geo": {
           "bgcolor": "white",
           "lakecolor": "white",
           "landcolor": "#E5ECF6",
           "showlakes": true,
           "showland": true,
           "subunitcolor": "white"
          },
          "hoverlabel": {
           "align": "left"
          },
          "hovermode": "closest",
          "mapbox": {
           "style": "light"
          },
          "paper_bgcolor": "white",
          "plot_bgcolor": "#E5ECF6",
          "polar": {
           "angularaxis": {
            "gridcolor": "white",
            "linecolor": "white",
            "ticks": ""
           },
           "bgcolor": "#E5ECF6",
           "radialaxis": {
            "gridcolor": "white",
            "linecolor": "white",
            "ticks": ""
           }
          },
          "scene": {
           "xaxis": {
            "backgroundcolor": "#E5ECF6",
            "gridcolor": "white",
            "gridwidth": 2,
            "linecolor": "white",
            "showbackground": true,
            "ticks": "",
            "zerolinecolor": "white"
           },
           "yaxis": {
            "backgroundcolor": "#E5ECF6",
            "gridcolor": "white",
            "gridwidth": 2,
            "linecolor": "white",
            "showbackground": true,
            "ticks": "",
            "zerolinecolor": "white"
           },
           "zaxis": {
            "backgroundcolor": "#E5ECF6",
            "gridcolor": "white",
            "gridwidth": 2,
            "linecolor": "white",
            "showbackground": true,
            "ticks": "",
            "zerolinecolor": "white"
           }
          },
          "shapedefaults": {
           "line": {
            "color": "#2a3f5f"
           }
          },
          "ternary": {
           "aaxis": {
            "gridcolor": "white",
            "linecolor": "white",
            "ticks": ""
           },
           "baxis": {
            "gridcolor": "white",
            "linecolor": "white",
            "ticks": ""
           },
           "bgcolor": "#E5ECF6",
           "caxis": {
            "gridcolor": "white",
            "linecolor": "white",
            "ticks": ""
           }
          },
          "title": {
           "x": 0.05
          },
          "xaxis": {
           "automargin": true,
           "gridcolor": "white",
           "linecolor": "white",
           "ticks": "",
           "title": {
            "standoff": 15
           },
           "zerolinecolor": "white",
           "zerolinewidth": 2
          },
          "yaxis": {
           "automargin": true,
           "gridcolor": "white",
           "linecolor": "white",
           "ticks": "",
           "title": {
            "standoff": 15
           },
           "zerolinecolor": "white",
           "zerolinewidth": 2
          }
         }
        },
        "title": {
         "text": "Histogram of Customers Monthly Transaction Volume"
        },
        "xaxis": {
         "anchor": "y",
         "domain": [
          0,
          1
         ],
         "title": {
          "text": "Monthly Transaction Volume"
         }
        },
        "yaxis": {
         "anchor": "x",
         "domain": [
          0,
          1
         ],
         "title": {
          "text": "count"
         }
        }
       }
      },
      "text/html": [
       "<div>                            <div id=\"1e03da22-683c-4e6a-9f7c-3239fb9fd92c\" class=\"plotly-graph-div\" style=\"height:525px; width:100%;\"></div>            <script type=\"text/javascript\">                require([\"plotly\"], function(Plotly) {                    window.PLOTLYENV=window.PLOTLYENV || {};                                    if (document.getElementById(\"1e03da22-683c-4e6a-9f7c-3239fb9fd92c\")) {                    Plotly.newPlot(                        \"1e03da22-683c-4e6a-9f7c-3239fb9fd92c\",                        [{\"alignmentgroup\":\"True\",\"bingroup\":\"x\",\"hovertemplate\":\"Monthly Transaction Volume=%{x}<br>count=%{y}<extra></extra>\",\"legendgroup\":\"\",\"marker\":{\"color\":\"#636efa\",\"pattern\":{\"shape\":\"\"}},\"name\":\"\",\"offsetgroup\":\"\",\"orientation\":\"v\",\"showlegend\":false,\"x\":[192.66666666666666,101.0,97.33333333333333,86.66666666666667,86.33333333333333,81.66666666666667,79.66666666666667,79.66666666666667,77.66666666666667,76.66666666666667,66.33333333333333,59.333333333333336,58.0,56.666666666666664,56.333333333333336,55.333333333333336,55.0,54.333333333333336,54.333333333333336,51.666666666666664,50.666666666666664,50.333333333333336,49.333333333333336,48.333333333333336,48.0,47.0,46.333333333333336,46.333333333333336,45.666666666666664,44.666666666666664,44.666666666666664,43.0,42.0,41.333333333333336,41.333333333333336,41.333333333333336,41.0,40.666666666666664,40.333333333333336,39.333333333333336,39.333333333333336,39.333333333333336,39.333333333333336,39.0,38.666666666666664,38.666666666666664,38.666666666666664,38.333333333333336,38.0,36.666666666666664,36.333333333333336,34.0,34.0,34.0,34.0,33.666666666666664,33.333333333333336,32.666666666666664,32.333333333333336,32.333333333333336,30.666666666666668,30.333333333333332,29.333333333333332,29.333333333333332,28.666666666666668,28.666666666666668,28.0,27.0,27.0,26.666666666666668,26.666666666666668,26.666666666666668,26.0,26.0,26.0,25.666666666666668,25.333333333333332,25.0,24.333333333333332,24.0,22.333333333333332,21.0,20.666666666666668,20.666666666666668,20.0,19.333333333333332,19.333333333333332,19.0,18.333333333333332,17.333333333333332,17.0,16.333333333333332,15.666666666666666,14.666666666666666,14.666666666666666,13.333333333333334,12.333333333333334,11.333333333333334,10.333333333333334,8.333333333333334],\"xaxis\":\"x\",\"yaxis\":\"y\",\"type\":\"histogram\"}],                        {\"template\":{\"data\":{\"bar\":[{\"error_x\":{\"color\":\"#2a3f5f\"},\"error_y\":{\"color\":\"#2a3f5f\"},\"marker\":{\"line\":{\"color\":\"#E5ECF6\",\"width\":0.5},\"pattern\":{\"fillmode\":\"overlay\",\"size\":10,\"solidity\":0.2}},\"type\":\"bar\"}],\"barpolar\":[{\"marker\":{\"line\":{\"color\":\"#E5ECF6\",\"width\":0.5},\"pattern\":{\"fillmode\":\"overlay\",\"size\":10,\"solidity\":0.2}},\"type\":\"barpolar\"}],\"carpet\":[{\"aaxis\":{\"endlinecolor\":\"#2a3f5f\",\"gridcolor\":\"white\",\"linecolor\":\"white\",\"minorgridcolor\":\"white\",\"startlinecolor\":\"#2a3f5f\"},\"baxis\":{\"endlinecolor\":\"#2a3f5f\",\"gridcolor\":\"white\",\"linecolor\":\"white\",\"minorgridcolor\":\"white\",\"startlinecolor\":\"#2a3f5f\"},\"type\":\"carpet\"}],\"choropleth\":[{\"colorbar\":{\"outlinewidth\":0,\"ticks\":\"\"},\"type\":\"choropleth\"}],\"contour\":[{\"colorbar\":{\"outlinewidth\":0,\"ticks\":\"\"},\"colorscale\":[[0.0,\"#0d0887\"],[0.1111111111111111,\"#46039f\"],[0.2222222222222222,\"#7201a8\"],[0.3333333333333333,\"#9c179e\"],[0.4444444444444444,\"#bd3786\"],[0.5555555555555556,\"#d8576b\"],[0.6666666666666666,\"#ed7953\"],[0.7777777777777778,\"#fb9f3a\"],[0.8888888888888888,\"#fdca26\"],[1.0,\"#f0f921\"]],\"type\":\"contour\"}],\"contourcarpet\":[{\"colorbar\":{\"outlinewidth\":0,\"ticks\":\"\"},\"type\":\"contourcarpet\"}],\"heatmap\":[{\"colorbar\":{\"outlinewidth\":0,\"ticks\":\"\"},\"colorscale\":[[0.0,\"#0d0887\"],[0.1111111111111111,\"#46039f\"],[0.2222222222222222,\"#7201a8\"],[0.3333333333333333,\"#9c179e\"],[0.4444444444444444,\"#bd3786\"],[0.5555555555555556,\"#d8576b\"],[0.6666666666666666,\"#ed7953\"],[0.7777777777777778,\"#fb9f3a\"],[0.8888888888888888,\"#fdca26\"],[1.0,\"#f0f921\"]],\"type\":\"heatmap\"}],\"heatmapgl\":[{\"colorbar\":{\"outlinewidth\":0,\"ticks\":\"\"},\"colorscale\":[[0.0,\"#0d0887\"],[0.1111111111111111,\"#46039f\"],[0.2222222222222222,\"#7201a8\"],[0.3333333333333333,\"#9c179e\"],[0.4444444444444444,\"#bd3786\"],[0.5555555555555556,\"#d8576b\"],[0.6666666666666666,\"#ed7953\"],[0.7777777777777778,\"#fb9f3a\"],[0.8888888888888888,\"#fdca26\"],[1.0,\"#f0f921\"]],\"type\":\"heatmapgl\"}],\"histogram\":[{\"marker\":{\"pattern\":{\"fillmode\":\"overlay\",\"size\":10,\"solidity\":0.2}},\"type\":\"histogram\"}],\"histogram2d\":[{\"colorbar\":{\"outlinewidth\":0,\"ticks\":\"\"},\"colorscale\":[[0.0,\"#0d0887\"],[0.1111111111111111,\"#46039f\"],[0.2222222222222222,\"#7201a8\"],[0.3333333333333333,\"#9c179e\"],[0.4444444444444444,\"#bd3786\"],[0.5555555555555556,\"#d8576b\"],[0.6666666666666666,\"#ed7953\"],[0.7777777777777778,\"#fb9f3a\"],[0.8888888888888888,\"#fdca26\"],[1.0,\"#f0f921\"]],\"type\":\"histogram2d\"}],\"histogram2dcontour\":[{\"colorbar\":{\"outlinewidth\":0,\"ticks\":\"\"},\"colorscale\":[[0.0,\"#0d0887\"],[0.1111111111111111,\"#46039f\"],[0.2222222222222222,\"#7201a8\"],[0.3333333333333333,\"#9c179e\"],[0.4444444444444444,\"#bd3786\"],[0.5555555555555556,\"#d8576b\"],[0.6666666666666666,\"#ed7953\"],[0.7777777777777778,\"#fb9f3a\"],[0.8888888888888888,\"#fdca26\"],[1.0,\"#f0f921\"]],\"type\":\"histogram2dcontour\"}],\"mesh3d\":[{\"colorbar\":{\"outlinewidth\":0,\"ticks\":\"\"},\"type\":\"mesh3d\"}],\"parcoords\":[{\"line\":{\"colorbar\":{\"outlinewidth\":0,\"ticks\":\"\"}},\"type\":\"parcoords\"}],\"pie\":[{\"automargin\":true,\"type\":\"pie\"}],\"scatter\":[{\"marker\":{\"colorbar\":{\"outlinewidth\":0,\"ticks\":\"\"}},\"type\":\"scatter\"}],\"scatter3d\":[{\"line\":{\"colorbar\":{\"outlinewidth\":0,\"ticks\":\"\"}},\"marker\":{\"colorbar\":{\"outlinewidth\":0,\"ticks\":\"\"}},\"type\":\"scatter3d\"}],\"scattercarpet\":[{\"marker\":{\"colorbar\":{\"outlinewidth\":0,\"ticks\":\"\"}},\"type\":\"scattercarpet\"}],\"scattergeo\":[{\"marker\":{\"colorbar\":{\"outlinewidth\":0,\"ticks\":\"\"}},\"type\":\"scattergeo\"}],\"scattergl\":[{\"marker\":{\"colorbar\":{\"outlinewidth\":0,\"ticks\":\"\"}},\"type\":\"scattergl\"}],\"scattermapbox\":[{\"marker\":{\"colorbar\":{\"outlinewidth\":0,\"ticks\":\"\"}},\"type\":\"scattermapbox\"}],\"scatterpolar\":[{\"marker\":{\"colorbar\":{\"outlinewidth\":0,\"ticks\":\"\"}},\"type\":\"scatterpolar\"}],\"scatterpolargl\":[{\"marker\":{\"colorbar\":{\"outlinewidth\":0,\"ticks\":\"\"}},\"type\":\"scatterpolargl\"}],\"scatterternary\":[{\"marker\":{\"colorbar\":{\"outlinewidth\":0,\"ticks\":\"\"}},\"type\":\"scatterternary\"}],\"surface\":[{\"colorbar\":{\"outlinewidth\":0,\"ticks\":\"\"},\"colorscale\":[[0.0,\"#0d0887\"],[0.1111111111111111,\"#46039f\"],[0.2222222222222222,\"#7201a8\"],[0.3333333333333333,\"#9c179e\"],[0.4444444444444444,\"#bd3786\"],[0.5555555555555556,\"#d8576b\"],[0.6666666666666666,\"#ed7953\"],[0.7777777777777778,\"#fb9f3a\"],[0.8888888888888888,\"#fdca26\"],[1.0,\"#f0f921\"]],\"type\":\"surface\"}],\"table\":[{\"cells\":{\"fill\":{\"color\":\"#EBF0F8\"},\"line\":{\"color\":\"white\"}},\"header\":{\"fill\":{\"color\":\"#C8D4E3\"},\"line\":{\"color\":\"white\"}},\"type\":\"table\"}]},\"layout\":{\"annotationdefaults\":{\"arrowcolor\":\"#2a3f5f\",\"arrowhead\":0,\"arrowwidth\":1},\"autotypenumbers\":\"strict\",\"coloraxis\":{\"colorbar\":{\"outlinewidth\":0,\"ticks\":\"\"}},\"colorscale\":{\"diverging\":[[0,\"#8e0152\"],[0.1,\"#c51b7d\"],[0.2,\"#de77ae\"],[0.3,\"#f1b6da\"],[0.4,\"#fde0ef\"],[0.5,\"#f7f7f7\"],[0.6,\"#e6f5d0\"],[0.7,\"#b8e186\"],[0.8,\"#7fbc41\"],[0.9,\"#4d9221\"],[1,\"#276419\"]],\"sequential\":[[0.0,\"#0d0887\"],[0.1111111111111111,\"#46039f\"],[0.2222222222222222,\"#7201a8\"],[0.3333333333333333,\"#9c179e\"],[0.4444444444444444,\"#bd3786\"],[0.5555555555555556,\"#d8576b\"],[0.6666666666666666,\"#ed7953\"],[0.7777777777777778,\"#fb9f3a\"],[0.8888888888888888,\"#fdca26\"],[1.0,\"#f0f921\"]],\"sequentialminus\":[[0.0,\"#0d0887\"],[0.1111111111111111,\"#46039f\"],[0.2222222222222222,\"#7201a8\"],[0.3333333333333333,\"#9c179e\"],[0.4444444444444444,\"#bd3786\"],[0.5555555555555556,\"#d8576b\"],[0.6666666666666666,\"#ed7953\"],[0.7777777777777778,\"#fb9f3a\"],[0.8888888888888888,\"#fdca26\"],[1.0,\"#f0f921\"]]},\"colorway\":[\"#636efa\",\"#EF553B\",\"#00cc96\",\"#ab63fa\",\"#FFA15A\",\"#19d3f3\",\"#FF6692\",\"#B6E880\",\"#FF97FF\",\"#FECB52\"],\"font\":{\"color\":\"#2a3f5f\"},\"geo\":{\"bgcolor\":\"white\",\"lakecolor\":\"white\",\"landcolor\":\"#E5ECF6\",\"showlakes\":true,\"showland\":true,\"subunitcolor\":\"white\"},\"hoverlabel\":{\"align\":\"left\"},\"hovermode\":\"closest\",\"mapbox\":{\"style\":\"light\"},\"paper_bgcolor\":\"white\",\"plot_bgcolor\":\"#E5ECF6\",\"polar\":{\"angularaxis\":{\"gridcolor\":\"white\",\"linecolor\":\"white\",\"ticks\":\"\"},\"bgcolor\":\"#E5ECF6\",\"radialaxis\":{\"gridcolor\":\"white\",\"linecolor\":\"white\",\"ticks\":\"\"}},\"scene\":{\"xaxis\":{\"backgroundcolor\":\"#E5ECF6\",\"gridcolor\":\"white\",\"gridwidth\":2,\"linecolor\":\"white\",\"showbackground\":true,\"ticks\":\"\",\"zerolinecolor\":\"white\"},\"yaxis\":{\"backgroundcolor\":\"#E5ECF6\",\"gridcolor\":\"white\",\"gridwidth\":2,\"linecolor\":\"white\",\"showbackground\":true,\"ticks\":\"\",\"zerolinecolor\":\"white\"},\"zaxis\":{\"backgroundcolor\":\"#E5ECF6\",\"gridcolor\":\"white\",\"gridwidth\":2,\"linecolor\":\"white\",\"showbackground\":true,\"ticks\":\"\",\"zerolinecolor\":\"white\"}},\"shapedefaults\":{\"line\":{\"color\":\"#2a3f5f\"}},\"ternary\":{\"aaxis\":{\"gridcolor\":\"white\",\"linecolor\":\"white\",\"ticks\":\"\"},\"baxis\":{\"gridcolor\":\"white\",\"linecolor\":\"white\",\"ticks\":\"\"},\"bgcolor\":\"#E5ECF6\",\"caxis\":{\"gridcolor\":\"white\",\"linecolor\":\"white\",\"ticks\":\"\"}},\"title\":{\"x\":0.05},\"xaxis\":{\"automargin\":true,\"gridcolor\":\"white\",\"linecolor\":\"white\",\"ticks\":\"\",\"title\":{\"standoff\":15},\"zerolinecolor\":\"white\",\"zerolinewidth\":2},\"yaxis\":{\"automargin\":true,\"gridcolor\":\"white\",\"linecolor\":\"white\",\"ticks\":\"\",\"title\":{\"standoff\":15},\"zerolinecolor\":\"white\",\"zerolinewidth\":2}}},\"xaxis\":{\"anchor\":\"y\",\"domain\":[0.0,1.0],\"title\":{\"text\":\"Monthly Transaction Volume\"}},\"yaxis\":{\"anchor\":\"x\",\"domain\":[0.0,1.0],\"title\":{\"text\":\"count\"}},\"legend\":{\"tracegroupgap\":0},\"title\":{\"text\":\"Histogram of Customers Monthly Transaction Volume\"},\"barmode\":\"relative\"},                        {\"responsive\": true}                    ).then(function(){\n",
       "                            \n",
       "var gd = document.getElementById('1e03da22-683c-4e6a-9f7c-3239fb9fd92c');\n",
       "var x = new MutationObserver(function (mutations, observer) {{\n",
       "        var display = window.getComputedStyle(gd).display;\n",
       "        if (!display || display === 'none') {{\n",
       "            console.log([gd, 'removed!']);\n",
       "            Plotly.purge(gd);\n",
       "            observer.disconnect();\n",
       "        }}\n",
       "}});\n",
       "\n",
       "// Listen for the removal of the full notebook cells\n",
       "var notebookContainer = gd.closest('#notebook-container');\n",
       "if (notebookContainer) {{\n",
       "    x.observe(notebookContainer, {childList: true});\n",
       "}}\n",
       "\n",
       "// Listen for the clearing of the current output cell\n",
       "var outputEl = gd.closest('.output');\n",
       "if (outputEl) {{\n",
       "    x.observe(outputEl, {childList: true});\n",
       "}}\n",
       "\n",
       "                        })                };                });            </script>        </div>"
      ]
     },
     "metadata": {},
     "output_type": "display_data"
    }
   ],
   "source": [
    "fig = px.histogram(trans_vol, x=\"transaction_id\", labels = {'transaction_id':'Monthly Transaction Volume'},\n",
    "                                                     title=\"Histogram of Customers Monthly Transaction Volume\")\n",
    "fig.show()"
   ]
  },
  {
   "cell_type": "code",
   "execution_count": 186,
   "id": "4af8a543",
   "metadata": {},
   "outputs": [
    {
     "data": {
      "text/plain": [
       "day_of_week\n",
       "Friday       2073\n",
       "Wednesday    2063\n",
       "Thursday     1801\n",
       "Saturday     1709\n",
       "Sunday       1550\n",
       "Tuesday      1487\n",
       "Monday       1360\n",
       "Name: transaction_id, dtype: int64"
      ]
     },
     "execution_count": 186,
     "metadata": {},
     "output_type": "execute_result"
    }
   ],
   "source": [
    "# customers daily transaction volume.\n",
    "trans_vol_wday = df.groupby('day_of_week')['transaction_id'].nunique().sort_values(ascending=False)\n",
    "trans_vol_wday"
   ]
  },
  {
   "cell_type": "code",
   "execution_count": 187,
   "id": "2924cb75",
   "metadata": {},
   "outputs": [
    {
     "data": {
      "text/plain": [
       "Text(0, 0.5, 'Transcation Volume')"
      ]
     },
     "execution_count": 187,
     "metadata": {},
     "output_type": "execute_result"
    },
    {
     "data": {
      "image/png": "[encoded data removed]",
      "text/plain": [
       "<Figure size 1800x360 with 1 Axes>"
      ]
     },
     "metadata": {},
     "output_type": "display_data"
    }
   ],
   "source": [
    "ax = sns.lineplot(data=trans_vol_wday)\n",
    "plt.title('Line plot of Customers Daily Transaction Volume ', {'fontsize': 20})\n",
    "plt.xlabel('Day of week', {'fontsize': 15})\n",
    "plt.ylabel('Transcation Volume', {'fontsize': 15})"
   ]
  },
  {
   "cell_type": "markdown",
   "id": "5c55895c",
   "metadata": {},
   "source": [
    "Friday have the highest transaction volume when compared to other week days closely followed by Wednesday."
   ]
  },
  {
   "cell_type": "code",
   "execution_count": 175,
   "id": "804065d9",
   "metadata": {},
   "outputs": [
    {
     "data": {
      "text/plain": [
       "Index(['status', 'card_present_flag', 'bpay_biller_code', 'account',\n",
       "       'currency', 'long_lat', 'txn_description', 'merchant_id',\n",
       "       'merchant_code', 'first_name', 'balance', 'date', 'gender', 'age',\n",
       "       'merchant_suburb', 'merchant_state', 'extraction', 'amount',\n",
       "       'transaction_id', 'country', 'customer_id', 'merchant_long_lat',\n",
       "       'movement', 'customer_id_account', 'hour', 'day_of_week',\n",
       "       'merchant_long', 'merchant_lat', 'customer_long', 'customer_lat'],\n",
       "      dtype='object')"
      ]
     },
     "execution_count": 175,
     "metadata": {},
     "output_type": "execute_result"
    }
   ],
   "source": [
    "df.columns"
   ]
  },
  {
   "cell_type": "code",
   "execution_count": 184,
   "id": "a932e017",
   "metadata": {},
   "outputs": [
    {
     "data": {
      "text/plain": [
       "day_of_week\n",
       "Friday       1241\n",
       "Saturday     1228\n",
       "Wednesday    1172\n",
       "Sunday       1068\n",
       "Thursday     1043\n",
       "Tuesday       801\n",
       "Monday        710\n",
       "Name: merchant_id, dtype: int64"
      ]
     },
     "execution_count": 184,
     "metadata": {},
     "output_type": "execute_result"
    }
   ],
   "source": [
    "# customers daily transaction volume.\n",
    "mercahant_vol_wday = df.groupby('day_of_week')['merchant_id'].nunique().sort_values(ascending=False)\n",
    "mercahant_vol_wday"
   ]
  },
  {
   "cell_type": "code",
   "execution_count": 243,
   "id": "4c5d43c7",
   "metadata": {},
   "outputs": [
    {
     "data": {
      "text/plain": [
       "Text(0, 0.5, 'Transcation Volume')"
      ]
     },
     "execution_count": 243,
     "metadata": {},
     "output_type": "execute_result"
    },
    {
     "data": {
      "image/png": "[encoded data removed]",
      "text/plain": [
       "<Figure size 1800x360 with 1 Axes>"
      ]
     },
     "metadata": {},
     "output_type": "display_data"
    }
   ],
   "source": [
    "ax = sns.lineplot(data=mercahant_vol_wday)\n",
    "plt.title('Line plot of Merchants Daily Transaction Volume ', {'fontsize': 20})\n",
    "plt.xlabel('Day of week', {'fontsize': 15})\n",
    "plt.ylabel('Transcation Volume', {'fontsize': 15})"
   ]
  },
  {
   "cell_type": "markdown",
   "id": "34a0e045",
   "metadata": {},
   "source": [
    "For merchants, most of their transactions occur on Fridays and Saturdays."
   ]
  },
  {
   "cell_type": "code",
   "execution_count": 183,
   "id": "b9732223",
   "metadata": {},
   "outputs": [
    {
     "data": {
      "text/plain": [
       "gender\n",
       "M    56\n",
       "F    44\n",
       "Name: customer_id, dtype: int64"
      ]
     },
     "execution_count": 183,
     "metadata": {},
     "output_type": "execute_result"
    }
   ],
   "source": [
    "df.groupby('gender')['customer_id'].nunique().sort_values(ascending=False)"
   ]
  },
  {
   "cell_type": "code",
   "execution_count": 196,
   "id": "c22b999d",
   "metadata": {},
   "outputs": [
    {
     "data": {
      "text/plain": [
       "Text(0, 0.5, 'Transcation Volume')"
      ]
     },
     "execution_count": 196,
     "metadata": {},
     "output_type": "execute_result"
    },
    {
     "data": {
      "image/png": "[encoded data removed]",
      "text/plain": [
       "<Figure size 1800x360 with 1 Axes>"
      ]
     },
     "metadata": {},
     "output_type": "display_data"
    }
   ],
   "source": [
    "ax = sns.countplot(data=df, x='day_of_week', hue='gender' )\n",
    "plt.title('Count plot of Customers Daily Transaction Volume by gender', {'fontsize': 20})\n",
    "plt.xlabel('Day of week', {'fontsize': 15})\n",
    "plt.ylabel('Transcation Volume', {'fontsize': 15})"
   ]
  },
  {
   "cell_type": "code",
   "execution_count": 200,
   "id": "0730500b",
   "metadata": {},
   "outputs": [
    {
     "data": {
      "text/plain": [
       "hour\n",
       "9     1106\n",
       "11     941\n",
       "17     815\n",
       "14     757\n",
       "21     741\n",
       "Name: transaction_id, dtype: int64"
      ]
     },
     "execution_count": 200,
     "metadata": {},
     "output_type": "execute_result"
    }
   ],
   "source": [
    "# customers hourly transaction volume.\n",
    "trans_vol_hour = df.groupby('hour')['transaction_id'].count().sort_values(ascending=False)\n",
    "trans_vol_hour[:5]"
   ]
  },
  {
   "cell_type": "code",
   "execution_count": 201,
   "id": "7030c8ab",
   "metadata": {},
   "outputs": [
    {
     "data": {
      "text/plain": [
       "Text(0, 0.5, 'Transcation Volume')"
      ]
     },
     "execution_count": 201,
     "metadata": {},
     "output_type": "execute_result"
    },
    {
     "data": {
      "image/png": "[encoded data removed]",
      "text/plain": [
       "<Figure size 1800x360 with 1 Axes>"
      ]
     },
     "metadata": {},
     "output_type": "display_data"
    }
   ],
   "source": [
    "ax = sns.lineplot(data=trans_vol_hour, size_order=5)\n",
    "ax.set_xlim(0,23)\n",
    "plt.title('Line plot of Customers Hourly Transaction Volume ', {'fontsize': 20})\n",
    "plt.xlabel('Hour of Day', {'fontsize': 15})\n",
    "plt.ylabel('Transcation Volume', {'fontsize': 15})"
   ]
  },
  {
   "cell_type": "markdown",
   "id": "24daa56c",
   "metadata": {},
   "source": [
    "Most transactions take place around 9am followed by 11am. Other than that,the bulk of transactions occur at afternoons and evenings. The least amount of transactions are late at night / very early in the morning which makes sense."
   ]
  },
  {
   "cell_type": "code",
   "execution_count": 202,
   "id": "e0ccd1c5",
   "metadata": {},
   "outputs": [
    {
     "data": {
      "text/plain": [
       "age\n",
       "26    893\n",
       "38    767\n",
       "20    765\n",
       "21    733\n",
       "24    732\n",
       "40    704\n",
       "19    693\n",
       "34    537\n",
       "25    515\n",
       "30    499\n",
       "Name: customer_id, dtype: int64"
      ]
     },
     "execution_count": 202,
     "metadata": {},
     "output_type": "execute_result"
    }
   ],
   "source": [
    "df.groupby('age')['customer_id'].count().sort_values(ascending=False)[:10]"
   ]
  },
  {
   "cell_type": "code",
   "execution_count": 284,
   "id": "409b6ca6",
   "metadata": {},
   "outputs": [],
   "source": [
    "df['X_diff'] = df['customer_long'] - df['merchant_long']\n",
    "df['Y_diff'] = df['customer_lat'] - df['merchant_lat']\n",
    "df['distance'] = np.linalg.norm(df[['X_diff', 'Y_diff']], axis=1)"
   ]
  },
  {
   "cell_type": "code",
   "execution_count": 296,
   "id": "d1accaf9",
   "metadata": {},
   "outputs": [
    {
     "data": {
      "text/plain": [
       "gender\n",
       "M    15.590081\n",
       "F     4.966735\n",
       "Name: distance, dtype: float64"
      ]
     },
     "execution_count": 296,
     "metadata": {},
     "output_type": "execute_result"
    }
   ],
   "source": [
    "df.groupby('gender')['distance'].mean().sort_values(ascending=False)"
   ]
  },
  {
   "cell_type": "code",
   "execution_count": 225,
   "id": "65ed33b3",
   "metadata": {},
   "outputs": [],
   "source": [
    "def age_group(age):\n",
    "    if (age > 17) and (age < 36):\n",
    "        return 'Young Adult'\n",
    "    elif (age > 35 ) and  (age < 56):\n",
    "        return  'Mid-Aged Adult'\n",
    "    elif (age > 55 ) and (age < 79):\n",
    "        return  'Old-Aged Adult'\n",
    "    else:\n",
    "        return 'Null'"
   ]
  },
  {
   "cell_type": "code",
   "execution_count": 226,
   "id": "0b9a56ef",
   "metadata": {},
   "outputs": [],
   "source": [
    "df['age_category'] = df.age.map(age_group)"
   ]
  },
  {
   "cell_type": "code",
   "execution_count": 295,
   "id": "38db4b8c",
   "metadata": {},
   "outputs": [
    {
     "data": {
      "text/plain": [
       "age_category\n",
       "Young Adult       13.091241\n",
       "Old-Aged Adult     3.744824\n",
       "Mid-Aged Adult     3.239491\n",
       "Name: distance, dtype: float64"
      ]
     },
     "execution_count": 295,
     "metadata": {},
     "output_type": "execute_result"
    }
   ],
   "source": [
    "df.groupby('age_category')['distance'].mean().sort_values(ascending=False)"
   ]
  },
  {
   "cell_type": "code",
   "execution_count": 229,
   "id": "e9b8167f",
   "metadata": {},
   "outputs": [
    {
     "data": {
      "text/plain": [
       "age_category\n",
       "Old-Aged Adult    68.401786\n",
       "Mid-Aged Adult    41.151742\n",
       "Young Adult       25.169063\n",
       "Name: age, dtype: float64"
      ]
     },
     "execution_count": 229,
     "metadata": {},
     "output_type": "execute_result"
    }
   ],
   "source": [
    "df.groupby('age_category')['age'].mean().sort_values(ascending=False)"
   ]
  },
  {
   "cell_type": "code",
   "execution_count": 242,
   "id": "3aa16ebc",
   "metadata": {},
   "outputs": [
    {
     "data": {
      "text/plain": [
       "Text(0, 0.5, 'Age Category')"
      ]
     },
     "execution_count": 242,
     "metadata": {},
     "output_type": "execute_result"
    },
    {
     "data": {
      "image/png": "[encoded data removed]",
      "text/plain": [
       "<Figure size 1800x360 with 1 Axes>"
      ]
     },
     "metadata": {},
     "output_type": "display_data"
    }
   ],
   "source": [
    "ax = sns.countplot(data=df, y='age_category')\n",
    "plt.title('Count plot of Customer Transaction Amount by Age Category', {'fontsize': 20})\n",
    "plt.xlabel('Transaction Amount', {'fontsize': 15})\n",
    "plt.ylabel('Age Category', {'fontsize': 15})"
   ]
  },
  {
   "cell_type": "code",
   "execution_count": 245,
   "id": "b359dea5",
   "metadata": {},
   "outputs": [
    {
     "data": {
      "text/plain": [
       "age_category\n",
       "Young Adult       1481427.24\n",
       "Mid-Aged Adult     741744.07\n",
       "Old-Aged Adult      40112.89\n",
       "Name: amount, dtype: float64"
      ]
     },
     "execution_count": 245,
     "metadata": {},
     "output_type": "execute_result"
    }
   ],
   "source": [
    "age_cat_grp = df.groupby('age_category')['amount'].sum().sort_values(ascending=False)\n",
    "age_cat_grp"
   ]
  },
  {
   "cell_type": "code",
   "execution_count": 263,
   "id": "0190451f",
   "metadata": {},
   "outputs": [],
   "source": [
    "young_amount = age_cat_grp[0]\n",
    "mid_amount = age_cat_grp[1]\n",
    "old_amount = age_cat_grp[1]\n",
    "total_amount = df['amount'].sum()"
   ]
  },
  {
   "cell_type": "code",
   "execution_count": 271,
   "id": "77ecdd35",
   "metadata": {},
   "outputs": [
    {
     "name": "stdout",
     "output_type": "stream",
     "text": [
      "65.45% of the amount spent by all customers were by young adults with the other two age categories accounting for the rest i.e 34.55%\n"
     ]
    }
   ],
   "source": [
    "young_amount_pct = young_amount/total_amount * 100\n",
    "print(f'{round(young_amount_pct,2)}% of the amount spent by all customers were by young adults with the other two age categories accounting for the rest i.e {100 - (round(young_amount_pct,2))}%')"
   ]
  },
  {
   "cell_type": "code",
   "execution_count": 253,
   "id": "9ed65560",
   "metadata": {},
   "outputs": [
    {
     "name": "stderr",
     "output_type": "stream",
     "text": [
      "C:\\Users\\SOLA\\AppData\\Local\\Temp/ipykernel_8372/3030297699.py:1: SettingWithCopyWarning:\n",
      "\n",
      "\n",
      "A value is trying to be set on a copy of a slice from a DataFrame.\n",
      "Try using .loc[row_indexer,col_indexer] = value instead\n",
      "\n",
      "See the caveats in the documentation: https://pandas.pydata.org/pandas-docs/stable/user_guide/indexing.html#returning-a-view-versus-a-copy\n",
      "\n"
     ]
    }
   ],
   "source": [
    "merchant['age_category'] = merchant.age.map(age_group)"
   ]
  },
  {
   "cell_type": "code",
   "execution_count": 254,
   "id": "488d6630",
   "metadata": {},
   "outputs": [
    {
     "data": {
      "text/plain": [
       "age_category\n",
       "Young Adult       211335.83\n",
       "Mid-Aged Adult     94499.35\n",
       "Old-Aged Adult      4031.17\n",
       "Name: amount, dtype: float64"
      ]
     },
     "execution_count": 254,
     "metadata": {},
     "output_type": "execute_result"
    }
   ],
   "source": [
    "merchant_age_cat_grp = merchant.groupby('age_category')['amount'].sum().sort_values(ascending=False)\n",
    "merchant_age_cat_grp"
   ]
  },
  {
   "cell_type": "code",
   "execution_count": 265,
   "id": "f6888ec9",
   "metadata": {},
   "outputs": [],
   "source": [
    "merchant_young_amount = merchant_age_cat_grp[0]\n",
    "merchant_mid_amount = merchant_age_cat_grp[1]\n",
    "merchant_old_amount = merchant_age_cat_grp[1]\n",
    "merchant_amount = merchant['amount'].sum()"
   ]
  },
  {
   "cell_type": "code",
   "execution_count": 277,
   "id": "9e238d96",
   "metadata": {},
   "outputs": [
    {
     "name": "stdout",
     "output_type": "stream",
     "text": [
      "68.2% of the amount spent by merchant customers were by young adults with the other two age categories accounting for the rest i.e 31.8%\n"
     ]
    }
   ],
   "source": [
    "merchant_young_amount_pct = merchant_young_amount/merchant_amount * 100\n",
    "print(f'{round(merchant_young_amount_pct,2)}% of the amount spent by merchant customers were by young adults with the other two age categories accounting for the rest i.e {round((100 - merchant_young_amount_pct),2)}%')"
   ]
  },
  {
   "cell_type": "code",
   "execution_count": 260,
   "id": "a0f0942e",
   "metadata": {},
   "outputs": [
    {
     "data": {
      "text/plain": [
       "Text(0, 0.5, 'Age Category')"
      ]
     },
     "execution_count": 260,
     "metadata": {},
     "output_type": "execute_result"
    },
    {
     "data": {
      "image/png": "[encoded data removed]",
      "text/plain": [
       "<Figure size 1800x360 with 1 Axes>"
      ]
     },
     "metadata": {},
     "output_type": "display_data"
    }
   ],
   "source": [
    "ax = sns.countplot(data=merchant, y='age_category')\n",
    "plt.title('Count plot of Merchant Transaction Amount by Age Category', {'fontsize': 20})\n",
    "plt.xlabel('Transaction Amount', {'fontsize': 15})\n",
    "plt.ylabel('Age Category', {'fontsize': 15})"
   ]
  },
  {
   "cell_type": "code",
   "execution_count": 258,
   "id": "6de01eb2",
   "metadata": {},
   "outputs": [
    {
     "data": {
      "text/plain": [
       "age_category\n",
       "Young Adult       8346\n",
       "Mid-Aged Adult    3473\n",
       "Old-Aged Adult     224\n",
       "Name: transaction_id, dtype: int64"
      ]
     },
     "execution_count": 258,
     "metadata": {},
     "output_type": "execute_result"
    }
   ],
   "source": [
    "# customers transaction volume by age category.\n",
    "age_vol = df.groupby('age_category')['transaction_id'].count().sort_values(ascending=False)\n",
    "age_vol"
   ]
  },
  {
   "cell_type": "code",
   "execution_count": 259,
   "id": "9e91d30b",
   "metadata": {},
   "outputs": [
    {
     "data": {
      "text/plain": [
       "age_category\n",
       "Young Adult       5504\n",
       "Mid-Aged Adult    2098\n",
       "Old-Aged Adult     115\n",
       "Name: transaction_id, dtype: int64"
      ]
     },
     "execution_count": 259,
     "metadata": {},
     "output_type": "execute_result"
    }
   ],
   "source": [
    "# Merchant transaction volume by age category.\n",
    "merchant_age_vol = merchant.groupby('age_category')['transaction_id'].count().sort_values(ascending=False)\n",
    "merchant_age_vol"
   ]
  },
  {
   "cell_type": "markdown",
   "id": "d655326e",
   "metadata": {},
   "source": [
    "The same trend applies to customer and merchant transaction volume which is expected especially when compared to transaction amount. Young adults have the highest volume followed by mid aged adults. Old aged adults have the least transaction volume."
   ]
  }
 ],
 "metadata": {
  "kernelspec": {
   "display_name": "Python 3 (ipykernel)",
   "language": "python",
   "name": "python3"
  },
  "language_info": {
   "codemirror_mode": {
    "name": "ipython",
    "version": 3
   },
   "file_extension": ".py",
   "mimetype": "text/x-python",
   "name": "python",
   "nbconvert_exporter": "python",
   "pygments_lexer": "ipython3",
   "version": "3.9.1"
  }
 },
 "nbformat": 4,
 "nbformat_minor": 5
}
